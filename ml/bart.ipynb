{
 "cells": [
  {
   "cell_type": "code",
   "execution_count": 1,
   "metadata": {},
   "outputs": [],
   "source": [
    "import os\n",
    "from transformers import BartTokenizer, BartForConditionalGeneration\n",
    "import time"
   ]
  },
  {
   "cell_type": "code",
   "execution_count": 53,
   "metadata": {},
   "outputs": [],
   "source": [
    "tokenizer = BartTokenizer.from_pretrained('distilbart-xsum-12-6')\n",
    "model = BartForConditionalGeneration.from_pretrained('distilbart-xsum-12-6')"
   ]
  },
  {
   "cell_type": "code",
   "execution_count": 1,
   "metadata": {},
   "outputs": [],
   "source": [
    "import pandas as pd\n",
    "\n",
    "path = 'data/'\n",
    "\n",
    "raw_text = pd.read_csv(path + \"news_summary_more.csv\", encoding='iso-8859-1')\n",
    "summary = pd.read_csv(path + \"news_summary.csv\", encoding='iso-8859-1')\n",
    "\n",
    "# cnn_text = pd.read_csv(path + \"cnn_news.csv\", encoding='iso-8859-1')"
   ]
  },
  {
   "cell_type": "code",
   "execution_count": 3,
   "metadata": {},
   "outputs": [
    {
     "data": {
      "text/plain": [
       "\"One97 Communications' subsidiary Paytm Payments Bank on Wednesday announced the appointment of Satish Kumar Gupta as the Managing Director (MD) and CEO of the bank. Gupta's appointment comes months after Renu Satti stepped down as the CEO of the Bank to head the company's retail segment. Previously, Gupta worked at National Payments Corporation of India and State Bank of India.  \""
      ]
     },
     "execution_count": 3,
     "metadata": {},
     "output_type": "execute_result"
    }
   ],
   "source": [
    "raw_text.iloc[12321, 1]"
   ]
  },
  {
   "cell_type": "code",
   "execution_count": 54,
   "metadata": {},
   "outputs": [],
   "source": [
    "def summarize(text, num_beams=4, length_penalty=1.0, max_length=50, min_length=10, no_repeat_ngram_size=3):\n",
    "  \n",
    "  text = text.replace('\\n','')\n",
    "  text_input_ids = tokenizer.batch_encode_plus([text], return_tensors='pt')['input_ids'].to('cpu')\n",
    "\n",
    "  summary_ids = model.generate(text_input_ids, num_beams=int(num_beams),\n",
    "  length_penalty=float(length_penalty), \n",
    "  max_length=int(max_length),\n",
    "  min_length=int(min_length), \n",
    "  no_repeat_ngram_size=int(no_repeat_ngram_size),\n",
    "  top_k=50)\n",
    "\n",
    "  summary_txt = tokenizer.decode(summary_ids.squeeze(), skip_special_tokens=True)\n",
    "  return summary_txt"
   ]
  },
  {
   "cell_type": "code",
   "execution_count": 48,
   "metadata": {},
   "outputs": [],
   "source": [
    "text = \"\"\"\n",
    "Johannes Gutenberg (1398 – 1468) was a German goldsmith and publisher who introduced printing to Europe. His introduction of mechanical movable type printing to Europe started the Printing Revolution and is widely regarded as the most important event of the modern period. It played a key role in the scientific revolution and laid the basis for the modern knowledge-based economy and the spread of learning to the masses.\n",
    "\n",
    "Gutenberg many contributions to printing are: the invention of a process for mass-producing movable type, the use of oil-based ink for printing books, adjustable molds, and the use of a wooden printing press. His truly epochal invention was the combination of these elements into a practical system that allowed the mass production of printed books and was economically viable for printers and readers alike.\n",
    "\n",
    "In Renaissance Europe, the arrival of mechanical movable type printing introduced the era of mass communication which permanently altered the structure of society. The relatively unrestricted circulation of information—including revolutionary ideas—transcended borders, and captured the masses in the Reformation. The sharp increase in literacy broke the monopoly of the literate elite on education and learning and bolstered the emerging middle class.\n",
    "\"\"\""
   ]
  },
  {
   "cell_type": "markdown",
   "metadata": {},
   "source": [
    "Johannes Gutenberg (1398 – 1468) was a German goldsmith and publisher who introduced printing to Europe. His introduction of mechanical movable type printing to Europe started the Printing Revolution and is widely regarded as the most important event of the modern period. It played a key role in the scientific revolution and laid the basis for the modern knowledge-based economy and the spread of learning to the masses.\n",
    "\n",
    "Gutenberg many contributions to printing are: the invention of a process for mass-producing movable type, the use of oil-based ink for printing books, adjustable molds, and the use of a wooden printing press. His truly epochal invention was the combination of these elements into a practical system that allowed the mass production of printed books and was economically viable for printers and readers alike.\n",
    "\n",
    "In Renaissance Europe, the arrival of mechanical movable type printing introduced the era of mass communication which permanently altered the structure of society. The relatively unrestricted circulation of information—including revolutionary ideas—transcended borders, and captured the masses in the Reformation. The sharp increase in literacy broke the monopoly of the literate elite on education and learning and bolstered the emerging middle class."
   ]
  },
  {
   "cell_type": "code",
   "execution_count": 56,
   "metadata": {},
   "outputs": [
    {
     "data": {
      "text/plain": [
       "' Gutenberg was one of the founding fathers of the printing revolution in the 14th Century. and his work was credited with the invention of the printing system.'"
      ]
     },
     "execution_count": 56,
     "metadata": {},
     "output_type": "execute_result"
    }
   ],
   "source": [
    "summarize(text, 4, 1.0, 50, 20, 4)"
   ]
  }
 ],
 "metadata": {
  "interpreter": {
   "hash": "32124c0ae89ef0f7525133591154aa3cec85ce6337c4c56604767db76003f7a6"
  },
  "kernelspec": {
   "display_name": "Python 3.8.5 ('base')",
   "language": "python",
   "name": "python3"
  },
  "language_info": {
   "codemirror_mode": {
    "name": "ipython",
    "version": 3
   },
   "file_extension": ".py",
   "mimetype": "text/x-python",
   "name": "python",
   "nbconvert_exporter": "python",
   "pygments_lexer": "ipython3",
   "version": "3.8.5"
  },
  "orig_nbformat": 4
 },
 "nbformat": 4,
 "nbformat_minor": 2
}
