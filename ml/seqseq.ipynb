{
 "cells": [
  {
   "cell_type": "markdown",
   "metadata": {},
   "source": [
    "# **Seq2Seq Model - Document Summarization**"
   ]
  },
  {
   "cell_type": "markdown",
   "metadata": {},
   "source": [
    "### **1. Import data**\n",
    "\n",
    "The dataset consists of NEWS SUMMARY dataset (by KONDALARAO VONTERU) and CNN-DailyMail News (by GOWRI SHANKAR P)."
   ]
  },
  {
   "cell_type": "code",
   "execution_count": 1,
   "metadata": {},
   "outputs": [],
   "source": [
    "import pandas as pd\n",
    "\n",
    "path = 'data/'\n",
    "\n",
    "raw_text = pd.read_csv(path + \"news_summary_more.csv\", encoding='iso-8859-1')\n",
    "summary = pd.read_csv(path + \"news_summary.csv\", encoding='iso-8859-1')\n",
    "\n",
    "# cnn_text = pd.read_csv(path + \"cnn_news.csv\", encoding='iso-8859-1')"
   ]
  },
  {
   "cell_type": "code",
   "execution_count": 2,
   "metadata": {},
   "outputs": [],
   "source": [
    "# cnn_text.head(2) # to see the columns name of different dataset"
   ]
  },
  {
   "cell_type": "code",
   "execution_count": 3,
   "metadata": {},
   "outputs": [],
   "source": [
    "raw_prep = raw_text.iloc[:, 0:2].copy()\n",
    "sum_prep = summary.iloc[:, 0:6].copy()\n",
    "\n",
    "sum_prep['text'] = sum_prep['author'].str.cat(\\\n",
    "                   sum_prep['date'].str.cat(\\\n",
    "                   sum_prep['read_more'].str.cat(\\\n",
    "                   sum_prep['text'].str.cat(\\\n",
    "                   sum_prep['ctext'], sep=' '), sep=' '), sep=' '), sep=' ')\n",
    "\n",
    "df = pd.DataFrame()\n",
    "# df['text'] = pd.concat([raw_prep['text'], sum_prep['text'], cnn_text['article']], ignore_index=True)\n",
    "# df['summary'] = pd.concat([raw_prep['headlines'], sum_prep['headlines'], cnn_text['highlights']], ignore_index=True)\n",
    "df['text'] = pd.concat([raw_prep['text'], sum_prep['text']], ignore_index=True)\n",
    "df['summary'] = pd.concat([raw_prep['headlines'], sum_prep['headlines']], ignore_index=True)"
   ]
  },
  {
   "cell_type": "code",
   "execution_count": 4,
   "metadata": {},
   "outputs": [
    {
     "data": {
      "text/html": [
       "<div>\n",
       "<style scoped>\n",
       "    .dataframe tbody tr th:only-of-type {\n",
       "        vertical-align: middle;\n",
       "    }\n",
       "\n",
       "    .dataframe tbody tr th {\n",
       "        vertical-align: top;\n",
       "    }\n",
       "\n",
       "    .dataframe thead th {\n",
       "        text-align: right;\n",
       "    }\n",
       "</style>\n",
       "<table border=\"1\" class=\"dataframe\">\n",
       "  <thead>\n",
       "    <tr style=\"text-align: right;\">\n",
       "      <th></th>\n",
       "      <th>text</th>\n",
       "      <th>summary</th>\n",
       "    </tr>\n",
       "  </thead>\n",
       "  <tbody>\n",
       "    <tr>\n",
       "      <th>0</th>\n",
       "      <td>Saurav Kant, an alumnus of upGrad and IIIT-B's...</td>\n",
       "      <td>upGrad learner switches to career in ML &amp; Al w...</td>\n",
       "    </tr>\n",
       "    <tr>\n",
       "      <th>1</th>\n",
       "      <td>Kunal Shah's credit card bill payment platform...</td>\n",
       "      <td>Delhi techie wins free food from Swiggy for on...</td>\n",
       "    </tr>\n",
       "    <tr>\n",
       "      <th>2</th>\n",
       "      <td>New Zealand defeated India by 8 wickets in the...</td>\n",
       "      <td>New Zealand end Rohit Sharma-led India's 12-ma...</td>\n",
       "    </tr>\n",
       "  </tbody>\n",
       "</table>\n",
       "</div>"
      ],
      "text/plain": [
       "                                                text  \\\n",
       "0  Saurav Kant, an alumnus of upGrad and IIIT-B's...   \n",
       "1  Kunal Shah's credit card bill payment platform...   \n",
       "2  New Zealand defeated India by 8 wickets in the...   \n",
       "\n",
       "                                             summary  \n",
       "0  upGrad learner switches to career in ML & Al w...  \n",
       "1  Delhi techie wins free food from Swiggy for on...  \n",
       "2  New Zealand end Rohit Sharma-led India's 12-ma...  "
      ]
     },
     "execution_count": 4,
     "metadata": {},
     "output_type": "execute_result"
    }
   ],
   "source": [
    "df.head(3)"
   ]
  },
  {
   "cell_type": "markdown",
   "metadata": {},
   "source": [
    "### **2. Cleaning data**\n",
    "\n",
    "Remove non-alphabetic characters from the dataset using regular expression library"
   ]
  },
  {
   "cell_type": "code",
   "execution_count": 5,
   "metadata": {},
   "outputs": [],
   "source": [
    "import re\n",
    "\n",
    "# Define function to clean data (ref: blog.paperspace)\n",
    "def text_strip(col):\n",
    "    for row in col:\n",
    "        row = re.sub(\"(\\\\t)\", \" \", str(row)).lower()\n",
    "        row = re.sub(\"(\\\\r)\", \" \", str(row)).lower()\n",
    "        row = re.sub(\"(\\\\n)\", \" \", str(row)).lower()\n",
    "\n",
    "        # Remove _ if it occurs more than one time consecutively\n",
    "        row = re.sub(\"(__+)\", \" \", str(row)).lower()\n",
    "\n",
    "        # Remove - if it occurs more than one time consecutively\n",
    "        row = re.sub(\"(--+)\", \" \", str(row)).lower()\n",
    "\n",
    "        # Remove ~ if it occurs more than one time consecutively\n",
    "        row = re.sub(\"(~~+)\", \" \", str(row)).lower()\n",
    "\n",
    "        # Remove + if it occurs more than one time consecutively\n",
    "        row = re.sub(\"(\\+\\++)\", \" \", str(row)).lower()\n",
    "\n",
    "        # Remove . if it occurs more than one time consecutively\n",
    "        row = re.sub(\"(\\.\\.+)\", \" \", str(row)).lower()\n",
    "\n",
    "        # Remove the characters - <>()|&©ø\"',;?~*!\n",
    "        row = re.sub(r\"[<>()|&©ø\\[\\]\\'\\\",;?~*!]\", \" \", str(row)).lower()\n",
    "\n",
    "        # Remove mailto:\n",
    "        row = re.sub(\"(mailto:)\", \" \", str(row)).lower()\n",
    "\n",
    "        # Remove \\x9* in text\n",
    "        row = re.sub(r\"(\\\\x9\\d)\", \" \", str(row)).lower()\n",
    "\n",
    "        # Replace INC nums to INC_NUM\n",
    "        row = re.sub(\"([iI][nN][cC]\\d+)\", \"INC_NUM\", str(row)).lower()\n",
    "\n",
    "        # Replace CM# and CHG# to CM_NUM\n",
    "        row = re.sub(\"([cC][mM]\\d+)|([cC][hH][gG]\\d+)\", \"CM_NUM\", str(row)).lower()\n",
    "\n",
    "        # Remove punctuations at the end of a word\n",
    "        row = re.sub(\"(\\.\\s+)\", \" \", str(row)).lower()\n",
    "        row = re.sub(\"(\\-\\s+)\", \" \", str(row)).lower()\n",
    "        row = re.sub(\"(\\:\\s+)\", \" \", str(row)).lower()\n",
    "\n",
    "        # Replace any url to only the domain name\n",
    "        try:\n",
    "            url = re.search(r\"((https*:\\/*)([^\\/\\s]+))(.[^\\s]+)\", str(row))\n",
    "            repl_url = url.group(3)\n",
    "            row = re.sub(r\"((https*:\\/*)([^\\/\\s]+))(.[^\\s]+)\", repl_url, str(row))\n",
    "        except:\n",
    "            pass\n",
    "\n",
    "        # Remove multiple spaces\n",
    "        row = re.sub(\"(\\s+)\", \" \", str(row)).lower()\n",
    "\n",
    "        # Remove the single character hanging between any two spaces\n",
    "        row = re.sub(\"(\\s+.\\s+)\", \" \", str(row)).lower()\n",
    "\n",
    "        yield row"
   ]
  },
  {
   "cell_type": "markdown",
   "metadata": {},
   "source": [
    "Clean the data by calling functions"
   ]
  },
  {
   "cell_type": "code",
   "execution_count": 6,
   "metadata": {},
   "outputs": [],
   "source": [
    "cleaned_text = text_strip(df['text'])\n",
    "cleaned_summary = text_strip(df['summary'])"
   ]
  },
  {
   "cell_type": "markdown",
   "metadata": {},
   "source": [
    "Load data as batches (using **spacy**) and enclosed the summaries with starting and closing tokens"
   ]
  },
  {
   "cell_type": "code",
   "execution_count": 7,
   "metadata": {},
   "outputs": [],
   "source": [
    "import spacy\n",
    "from time import time\n",
    "\n",
    "nlp = spacy.load('en_core_web_sm', disable=['ner', 'parser'])\n",
    "\n",
    "text = [str(raw) for raw in nlp.pipe(cleaned_text, batch_size = 80)]\n",
    "\n",
    "summary = ['_START_' + str(raw) + '_END_' for raw in nlp.pipe(cleaned_summary, batch_size=80)]"
   ]
  },
  {
   "cell_type": "markdown",
   "metadata": {},
   "source": [
    "The `_START_` and `_END_` tokens are used to determine the starting and ending points of the summaries, in which it could also be helpful to exclude the empty text."
   ]
  },
  {
   "cell_type": "code",
   "execution_count": 18,
   "metadata": {},
   "outputs": [
    {
     "name": "stdout",
     "output_type": "stream",
     "text": [
      "Original text\n",
      "Saurav Kant, an alumnus of upGrad and IIIT-B's PG Program in Machine learning and Artificial Intelligence, was a Sr Systems Engineer at Infosys with almost 5 years of work experience. The program and upGrad's 360-degree career support helped him transition to a Data Scientist at Tech Mahindra with 90% salary hike. upGrad's Online Power Learning has powered 3 lakh+ careers.\n",
      "\n",
      "Sample text\n",
      "saurav kant an alumnus of upgrad and iiit-b pg program in machine learning and artificial intelligence was sr systems engineer at infosys with almost years of work experience the program and upgrad 360-degree career support helped him transition to data scientist at tech mahindra with 90% salary hike upgrad online power learning has powered lakh+ careers.\n",
      "\n",
      "Summary\n",
      "_START_upgrad learner switches to career in ml al with 90% salary hike_END_\n"
     ]
    }
   ],
   "source": [
    "print(f\"Original text\\n{raw_prep.text[0]}\\n\\nSample text\\n{text[0]}\\n\\nSummary\\n{summary[0]}\")"
   ]
  },
  {
   "cell_type": "markdown",
   "metadata": {},
   "source": [
    "### **3. Examine the data**\n",
    "\n",
    "We will analyze the characteristics of the dataset, such as: maximum sequence lengths, most-frequent words, difference in length between raw texts and summaries."
   ]
  },
  {
   "cell_type": "code",
   "execution_count": 19,
   "metadata": {},
   "outputs": [],
   "source": [
    "df['cleaned_text'] = pd.Series(text)\n",
    "df['cleaned_summary'] = pd.Series(summary)"
   ]
  },
  {
   "cell_type": "markdown",
   "metadata": {},
   "source": [
    "After creating the list of texts and summaries, we will split each sequences to a list consisting multiple words by using `split' built-in function. From the lists we have created, a graph will be drawn to determine the range of length, from which we can derive the maximum number of words that frequently fall into."
   ]
  },
  {
   "cell_type": "code",
   "execution_count": null,
   "metadata": {},
   "outputs": [],
   "source": [
    "import seaborn as sns\n",
    "import matplotlib.pyplot as plt\n",
    "\n",
    "sns.set_theme(style=\"darkgrid\")\n",
    "\n",
    "text_cnt = []\n",
    "sum_cnt = []\n",
    "\n",
    "for text_seq, sum_seq in zip(df['cleaned_text'], df['cleaned_summary']):\n",
    "    text_cnt.append(len(text_seq.split()))\n",
    "    sum_cnt.append(len(sum_seq.split()))\n",
    "\n",
    "plot_df = pd.DataFrame()\n",
    "plot_df['text'] = text_cnt\n",
    "plot_df['summary'] = sum_cnt"
   ]
  },
  {
   "cell_type": "code",
   "execution_count": 43,
   "metadata": {},
   "outputs": [
    {
     "data": {
      "image/png": "[encoded data removed]",
      "text/plain": [
       "<Figure size 576x288 with 2 Axes>"
      ]
     },
     "metadata": {},
     "output_type": "display_data"
    }
   ],
   "source": [
    "fig, ax = plt.subplots(1, 2, figsize=(8, 4))\n",
    "sns.histplot(data=plot_df, x=\"text\", color=\"skyblue\", label=\"text\", kde=True, bins=5, ax=ax[0])\n",
    "sns.histplot(data=plot_df, x=\"summary\", color=\"red\", label=\"summary\", kde=True, bins=5, ax=ax[1])\n",
    "\n",
    "plt.legend() \n",
    "plt.show()"
   ]
  },
  {
   "cell_type": "markdown",
   "metadata": {},
   "source": [
    "From the plot, we can confidently determine the maximum length of summaries would be 15 words. On the other hand, it seems like the range of texts is barely observerable. As said, we will use the violin plot to see the distribution density and determine the maximum length among them."
   ]
  },
  {
   "cell_type": "code",
   "execution_count": 37,
   "metadata": {},
   "outputs": [
    {
     "data": {
      "text/plain": [
       "count    102915.000000\n",
       "mean         71.555429\n",
       "std         100.166101\n",
       "min           1.000000\n",
       "25%          56.000000\n",
       "50%          58.000000\n",
       "75%          59.000000\n",
       "max       11999.000000\n",
       "Name: text, dtype: float64"
      ]
     },
     "execution_count": 37,
     "metadata": {},
     "output_type": "execute_result"
    }
   ],
   "source": [
    "plot_df['text'].describe()"
   ]
  },
  {
   "cell_type": "markdown",
   "metadata": {},
   "source": [
    "Since the data is heavily right skewed, we could remove some of the outliers by slicing (for visualization purpose only of course)"
   ]
  },
  {
   "cell_type": "code",
   "execution_count": 42,
   "metadata": {},
   "outputs": [
    {
     "data": {
      "image/png": "[encoded data removed]",
      "text/plain": [
       "<Figure size 576x288 with 1 Axes>"
      ]
     },
     "metadata": {},
     "output_type": "display_data"
    }
   ],
   "source": [
    "fig, ax = plt.subplots(1, 1, figsize=(8, 4))\n",
    "sns.violinplot(data=plot_df[plot_df.text < plot_df.text.mean() + plot_df.text.std()], x=\"text\", color=\"skyblue\", label=\"text\", ax=ax)\n",
    "plt.show()"
   ]
  },
  {
   "cell_type": "markdown",
   "metadata": {},
   "source": [
    "The frequent lengths of texts fall into around 50 - 60 words. From here, we can assume the maximum length of texts to be 100 words, as almost sequences fall into the range below 100."
   ]
  },
  {
   "cell_type": "code",
   "execution_count": 44,
   "metadata": {},
   "outputs": [],
   "source": [
    "# Initialize the plausible length for texts and summaries\n",
    "max_text_len = 100\n",
    "max_sum_len = 15"
   ]
  },
  {
   "cell_type": "markdown",
   "metadata": {},
   "source": [
    "### **4. Data Extraction**\n",
    "\n",
    "In this section, we will select plausible texts and summaries for further training progress based on the length criteria proposed above."
   ]
  },
  {
   "cell_type": "code",
   "execution_count": 49,
   "metadata": {},
   "outputs": [
    {
     "data": {
      "text/html": [
       "<div>\n",
       "<style scoped>\n",
       "    .dataframe tbody tr th:only-of-type {\n",
       "        vertical-align: middle;\n",
       "    }\n",
       "\n",
       "    .dataframe tbody tr th {\n",
       "        vertical-align: top;\n",
       "    }\n",
       "\n",
       "    .dataframe thead th {\n",
       "        text-align: right;\n",
       "    }\n",
       "</style>\n",
       "<table border=\"1\" class=\"dataframe\">\n",
       "  <thead>\n",
       "    <tr style=\"text-align: right;\">\n",
       "      <th></th>\n",
       "      <th>text</th>\n",
       "      <th>summary</th>\n",
       "    </tr>\n",
       "  </thead>\n",
       "  <tbody>\n",
       "    <tr>\n",
       "      <th>0</th>\n",
       "      <td>saurav kant an alumnus of upgrad and iiit-b pg...</td>\n",
       "      <td>_START_upgrad learner switches to career in ml...</td>\n",
       "    </tr>\n",
       "    <tr>\n",
       "      <th>1</th>\n",
       "      <td>kunal shah credit card bill payment platform c...</td>\n",
       "      <td>_START_delhi techie wins free food from swiggy...</td>\n",
       "    </tr>\n",
       "    <tr>\n",
       "      <th>2</th>\n",
       "      <td>new zealand defeated india by wickets in the f...</td>\n",
       "      <td>_START_new zealand end rohit sharma-led india ...</td>\n",
       "    </tr>\n",
       "  </tbody>\n",
       "</table>\n",
       "</div>"
      ],
      "text/plain": [
       "                                                text  \\\n",
       "0  saurav kant an alumnus of upgrad and iiit-b pg...   \n",
       "1  kunal shah credit card bill payment platform c...   \n",
       "2  new zealand defeated india by wickets in the f...   \n",
       "\n",
       "                                             summary  \n",
       "0  _START_upgrad learner switches to career in ml...  \n",
       "1  _START_delhi techie wins free food from swiggy...  \n",
       "2  _START_new zealand end rohit sharma-led india ...  "
      ]
     },
     "execution_count": 49,
     "metadata": {},
     "output_type": "execute_result"
    }
   ],
   "source": [
    "import numpy as np\n",
    "\n",
    "# We convert the dataframe to numpy for faster process\n",
    "cleaned_text = np.array(df['cleaned_text'])\n",
    "cleaned_summary = np.array(df['cleaned_summary'])\n",
    "\n",
    "processed_text = []\n",
    "processed_sum = []\n",
    "\n",
    "for text, summary in zip(cleaned_text, cleaned_summary):\n",
    "    if len(text.split()) <= max_text_len and len(summary.split()) <= max_sum_len:\n",
    "        processed_text.append(text)\n",
    "        processed_sum.append(summary)\n",
    "\n",
    "post_processed_df = pd.DataFrame({'text': processed_text, 'summary': processed_sum})\n",
    "post_processed_df.head(3)"
   ]
  },
  {
   "cell_type": "code",
   "execution_count": 52,
   "metadata": {},
   "outputs": [
    {
     "name": "stdout",
     "output_type": "stream",
     "text": [
      "Pre-processed dataset\n",
      "102915 sequences\n",
      "Post-processed dataset\n",
      "98572 sequences\n"
     ]
    }
   ],
   "source": [
    "print(f\"Pre-processed dataset\\n{len(df)} sequences\\nPost-processed dataset\\n{len(post_processed_df)} sequences\")"
   ]
  },
  {
   "cell_type": "markdown",
   "metadata": {},
   "source": [
    "Now, we add the indicator of starting point (`sok`: start of token) and ending point (`eos`: end of token) of sequence. This would help to determine the correct sequence during the tokenization phase.\n",
    "\n",
    "Speaking of tokenization, it is a way of seperating a piece of text into smaller units called tokens (can be either characters, words or sub-words). For example, we want tokenize the sequence \"Code is fun\" by remove the space delimeter. So it would become 3 different words: 'Code', 'is' and 'fun', which is also results of words tokenization.\n",
    "\n",
    "Another example would be tokenize the word \"science\" into s-c-i-e-n-c-e with characters tokenization, or into sc-ience with subwords tokenization (or n-gram).\n",
    "\n",
    "Tokenization is performed on the corpus (documents/dataset/sequence) to obtain tokens, and these tokens will be feed to the formation of vocabulary which is a set of unique tokens in the corpus. Note that the `sok` and `eos` are different from `_START_` and `_END_` notations since the later tokens are used to remove empty sequences."
   ]
  },
  {
   "cell_type": "markdown",
   "metadata": {},
   "source": [
    "### **5. Tokenizing the dataset**\n",
    "\n",
    "Forming the train and test dataset"
   ]
  },
  {
   "cell_type": "code",
   "execution_count": 77,
   "metadata": {},
   "outputs": [],
   "source": [
    "from sklearn.model_selection import train_test_split\n",
    "\n",
    "x_tr, x_val, y_tr, y_val = train_test_split(\n",
    "    np.array(post_processed_df[\"text\"]),\n",
    "    np.array(post_processed_df[\"summary\"]),\n",
    "    test_size=0.2,\n",
    "    random_state=0,\n",
    "    shuffle=True,\n",
    ")"
   ]
  },
  {
   "cell_type": "code",
   "execution_count": 78,
   "metadata": {},
   "outputs": [],
   "source": [
    "# Tokenize the text to get the vocabulary, using keras libraries\n",
    "from tensorflow.keras.preprocessing.text import Tokenizer \n",
    "from tensorflow.keras.preprocessing.sequence import pad_sequences\n",
    "\n",
    "# Prepare a tokenizer on training data\n",
    "x_tokenizer = Tokenizer() \n",
    "x_tokenizer.fit_on_texts(list(x_tr))"
   ]
  },
  {
   "cell_type": "code",
   "execution_count": 79,
   "metadata": {},
   "outputs": [
    {
     "name": "stdout",
     "output_type": "stream",
     "text": [
      "samajwadi 270\n",
      "party 3770\n",
      "president 7272\n",
      "akhilesh 186\n",
      "yadav 1011\n"
     ]
    }
   ],
   "source": [
    "# Print out some tokens from the tokenizer\n",
    "i = 5\n",
    "for key, value in x_tokenizer.word_counts.items():\n",
    "    if i == 0: break\n",
    "    print(key, value)\n",
    "    i-=1"
   ]
  },
  {
   "cell_type": "markdown",
   "metadata": {},
   "source": [
    "Excluding the very rare words"
   ]
  },
  {
   "cell_type": "code",
   "execution_count": 80,
   "metadata": {},
   "outputs": [
    {
     "name": "stdout",
     "output_type": "stream",
     "text": [
      "% of rare words in vocabulary:  62.755014231813064\n"
     ]
    }
   ],
   "source": [
    "thresh = 5 # occurs less than 5 times\n",
    "\n",
    "cnt = 0\n",
    "tot_cnt = 0\n",
    "\n",
    "for key, value in x_tokenizer.word_counts.items():\n",
    "    tot_cnt = tot_cnt + 1\n",
    "    if value < thresh:\n",
    "        cnt = cnt + 1\n",
    "    \n",
    "print(\"% of rare words in vocabulary: \", (cnt / tot_cnt) * 100)"
   ]
  },
  {
   "cell_type": "markdown",
   "metadata": {},
   "source": [
    "Since the rare words occupied the most in the vocabulary, we will tokenize the dataset again by using the total number of words minus the rare words. After that, by using the built-in function from keras, we will convert the text into number sequences, and padding the zeroes to ensure all sequences have the same length (which equal to the maximum length)"
   ]
  },
  {
   "cell_type": "code",
   "execution_count": 81,
   "metadata": {},
   "outputs": [
    {
     "name": "stdout",
     "output_type": "stream",
     "text": [
      "Size of vocabulary in the text corpus 28134\n"
     ]
    }
   ],
   "source": [
    "# Prepare a tokenizer but exclude the rare words\n",
    "x_tokenizer = Tokenizer(num_words = tot_cnt - cnt) \n",
    "x_tokenizer.fit_on_texts(list(x_tr))\n",
    "\n",
    "# Convert text sequences to integer sequences \n",
    "x_tr_seq = x_tokenizer.texts_to_sequences(x_tr) \n",
    "x_val_seq = x_tokenizer.texts_to_sequences(x_val)\n",
    "\n",
    "# Pad zero upto maximum length\n",
    "x_tr = pad_sequences(x_tr_seq,  maxlen=max_text_len, padding='post')\n",
    "x_val = pad_sequences(x_val_seq, maxlen=max_text_len, padding='post')\n",
    "\n",
    "# Size of vocabulary (+1 for padding token)\n",
    "x_voc = x_tokenizer.num_words + 1\n",
    "\n",
    "print(f\"Size of vocabulary in the text corpus {x_voc}\")"
   ]
  },
  {
   "cell_type": "markdown",
   "metadata": {},
   "source": [
    "Now let's prepare the tokenizer for summaries"
   ]
  },
  {
   "cell_type": "code",
   "execution_count": 82,
   "metadata": {},
   "outputs": [
    {
     "name": "stdout",
     "output_type": "stream",
     "text": [
      "% of rare words in vocabulary:  63.294595988712565\n",
      "Size of vocabulary in the summary corpus 12098\n"
     ]
    }
   ],
   "source": [
    "# Prepare a tokenizer on training data\n",
    "y_tokenizer = Tokenizer() \n",
    "y_tokenizer.fit_on_texts(list(y_tr))\n",
    "\n",
    "thresh = 5 # occurs less than 5 times\n",
    "\n",
    "cnt = 0\n",
    "tot_cnt = 0\n",
    "\n",
    "for key, value in y_tokenizer.word_counts.items():\n",
    "    tot_cnt = tot_cnt + 1\n",
    "    if value < thresh:\n",
    "        cnt = cnt + 1\n",
    "    \n",
    "print(\"% of rare words in vocabulary: \", (cnt / tot_cnt) * 100)\n",
    "\n",
    "# Prepare a tokenizer but exclude the rare words\n",
    "y_tokenizer = Tokenizer(num_words = tot_cnt - cnt) \n",
    "y_tokenizer.fit_on_texts(list(y_tr))\n",
    "\n",
    "# Convert text sequences to integer sequences \n",
    "y_tr_seq = y_tokenizer.texts_to_sequences(y_tr) \n",
    "y_val_seq = y_tokenizer.texts_to_sequences(y_val)\n",
    "\n",
    "# Pad zero upto maximum length\n",
    "y_tr = pad_sequences(y_tr_seq,  maxlen=max_sum_len, padding='post')\n",
    "y_val = pad_sequences(y_val_seq, maxlen=max_sum_len, padding='post')\n",
    "\n",
    "# Size of vocabulary (+1 for padding token)\n",
    "y_voc = y_tokenizer.num_words + 1\n",
    "\n",
    "print(f\"Size of vocabulary in the summary corpus {y_voc}\")"
   ]
  },
  {
   "cell_type": "markdown",
   "metadata": {},
   "source": [
    "### **6. Remove empty sequences**\n",
    "\n",
    "As we have disscued in preivous section, we will remove all empty summaries (which only have START and END tokens) and their associated texts from the data."
   ]
  },
  {
   "cell_type": "code",
   "execution_count": 83,
   "metadata": {},
   "outputs": [],
   "source": [
    "# Remove empty summaries, which only have 'START' and 'END' tokens\n",
    "index = []\n",
    "# Append the indices of empty sequences and remove with numpy\n",
    "for i in range(len(y_tr)):\n",
    "    cnt = 0\n",
    "    for j in y_tr[i]:\n",
    "        if j != 0:\n",
    "            cnt = cnt + 1\n",
    "    if cnt == 2:\n",
    "        index.append(i)\n",
    "\n",
    "y_tr = np.delete(y_tr, index, axis=0)\n",
    "x_tr = np.delete(x_tr, index, axis=0)"
   ]
  },
  {
   "cell_type": "markdown",
   "metadata": {},
   "source": [
    "Apply the same process for validation dataset"
   ]
  },
  {
   "cell_type": "code",
   "execution_count": 84,
   "metadata": {},
   "outputs": [],
   "source": [
    "# Remove empty summaries, which only have 'START' and 'END' tokens\n",
    "index = []\n",
    "# Append the indices of empty sequences and remove with numpy\n",
    "for i in range(len(y_val)):\n",
    "    cnt = 0\n",
    "    for j in y_val[i]:\n",
    "        if j != 0:\n",
    "            cnt = cnt + 1\n",
    "    if cnt == 2:\n",
    "        index.append(i)\n",
    "\n",
    "y_val = np.delete(y_val, index, axis=0)\n",
    "x_val = np.delete(x_val, index, axis=0)"
   ]
  },
  {
   "cell_type": "markdown",
   "metadata": {},
   "source": [
    "### **7. Construct the model**\n",
    "\n",
    "As the data is well-prepared until now, we will move on to create the model structure with the Tensorflow and Keras libraries"
   ]
  },
  {
   "cell_type": "code",
   "execution_count": null,
   "metadata": {},
   "outputs": [],
   "source": [
    "# Import libraries for constructing models\n",
    "from tensorflow.keras.layers import Input, LSTM, Embedding, Dense, Concatenate, TimeDistributed\n",
    "from tensorflow.keras.models import Model\n",
    "from tensorflow.keras.callbacks import EarlyStopping"
   ]
  },
  {
   "cell_type": "markdown",
   "metadata": {},
   "source": [
    "The Seq2Seq consist of encoders and decoders in its network. In the next cells, we will define the encoder and decoder pipelines and then assemble them together in the future steps."
   ]
  },
  {
   "cell_type": "markdown",
   "metadata": {},
   "source": [
    "#### **7.1. Encoder**"
   ]
  },
  {
   "cell_type": "code",
   "execution_count": null,
   "metadata": {},
   "outputs": [],
   "source": []
  }
 ],
 "metadata": {
  "interpreter": {
   "hash": "32124c0ae89ef0f7525133591154aa3cec85ce6337c4c56604767db76003f7a6"
  },
  "kernelspec": {
   "display_name": "Python 3.8.5 ('base')",
   "language": "python",
   "name": "python3"
  },
  "language_info": {
   "codemirror_mode": {
    "name": "ipython",
    "version": 3
   },
   "file_extension": ".py",
   "mimetype": "text/x-python",
   "name": "python",
   "nbconvert_exporter": "python",
   "pygments_lexer": "ipython3",
   "version": "3.8.5"
  },
  "orig_nbformat": 4
 },
 "nbformat": 4,
 "nbformat_minor": 2
}
