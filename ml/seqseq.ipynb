{
 "cells": [
  {
   "cell_type": "markdown",
   "metadata": {},
   "source": [
    "# **Seq2Seq Model - Document Summarization**"
   ]
  },
  {
   "cell_type": "markdown",
   "metadata": {},
   "source": [
    "### **1. Import data**\n",
    "\n",
    "The dataset consists of NEWS SUMMARY dataset (by KONDALARAO VONTERU) and CNN-DailyMail News (by GOWRI SHANKAR P)."
   ]
  },
  {
   "cell_type": "code",
   "execution_count": 10,
   "metadata": {},
   "outputs": [],
   "source": [
    "import pandas as pd\n",
    "\n",
    "path = 'data/'\n",
    "\n",
    "raw_text = pd.read_csv(path + \"news_summary_more.csv\", encoding='iso-8859-1')\n",
    "summary = pd.read_csv(path + \"news_summary.csv\", encoding='iso-8859-1')\n",
    "cnn_text = pd.read_csv(path + \"cnn_news.csv\", encoding='iso-8859-1')"
   ]
  },
  {
   "cell_type": "code",
   "execution_count": 11,
   "metadata": {},
   "outputs": [
    {
     "data": {
      "text/html": [
       "<div>\n",
       "<style scoped>\n",
       "    .dataframe tbody tr th:only-of-type {\n",
       "        vertical-align: middle;\n",
       "    }\n",
       "\n",
       "    .dataframe tbody tr th {\n",
       "        vertical-align: top;\n",
       "    }\n",
       "\n",
       "    .dataframe thead th {\n",
       "        text-align: right;\n",
       "    }\n",
       "</style>\n",
       "<table border=\"1\" class=\"dataframe\">\n",
       "  <thead>\n",
       "    <tr style=\"text-align: right;\">\n",
       "      <th></th>\n",
       "      <th>id</th>\n",
       "      <th>article</th>\n",
       "      <th>highlights</th>\n",
       "    </tr>\n",
       "  </thead>\n",
       "  <tbody>\n",
       "    <tr>\n",
       "      <th>0</th>\n",
       "      <td>0001d1afc246a7964130f43ae940af6bc6c57f01</td>\n",
       "      <td>By . Associated Press . PUBLISHED: . 14:11 EST...</td>\n",
       "      <td>Bishop John Folda, of North Dakota, is taking ...</td>\n",
       "    </tr>\n",
       "    <tr>\n",
       "      <th>1</th>\n",
       "      <td>0002095e55fcbd3a2f366d9bf92a95433dc305ef</td>\n",
       "      <td>(CNN) -- Ralph Mata was an internal affairs li...</td>\n",
       "      <td>Criminal complaint: Cop used his role to help ...</td>\n",
       "    </tr>\n",
       "  </tbody>\n",
       "</table>\n",
       "</div>"
      ],
      "text/plain": [
       "                                         id  \\\n",
       "0  0001d1afc246a7964130f43ae940af6bc6c57f01   \n",
       "1  0002095e55fcbd3a2f366d9bf92a95433dc305ef   \n",
       "\n",
       "                                             article  \\\n",
       "0  By . Associated Press . PUBLISHED: . 14:11 EST...   \n",
       "1  (CNN) -- Ralph Mata was an internal affairs li...   \n",
       "\n",
       "                                          highlights  \n",
       "0  Bishop John Folda, of North Dakota, is taking ...  \n",
       "1  Criminal complaint: Cop used his role to help ...  "
      ]
     },
     "execution_count": 11,
     "metadata": {},
     "output_type": "execute_result"
    }
   ],
   "source": [
    "cnn_text.head(2) # to see the columns name of different dataset"
   ]
  },
  {
   "cell_type": "code",
   "execution_count": 12,
   "metadata": {},
   "outputs": [],
   "source": [
    "raw_prep = raw_text.iloc[:, 0:2].copy()\n",
    "sum_prep = summary.iloc[:, 0:6].copy()\n",
    "\n",
    "sum_prep['text'] = sum_prep['author'].str.cat(\\\n",
    "                   sum_prep['date'].str.cat(\\\n",
    "                   sum_prep['read_more'].str.cat(\\\n",
    "                   sum_prep['text'].str.cat(\\\n",
    "                   sum_prep['ctext'], sep=' '), sep=' '), sep=' '), sep=' ')\n",
    "\n",
    "df = pd.DataFrame()\n",
    "df['text'] = pd.concat([raw_prep['text'], sum_prep['text'], cnn_text['article']], ignore_index=True)\n",
    "df['summary'] = pd.concat([raw_prep['headlines'], sum_prep['headlines'], cnn_text['highlights']], ignore_index=True)\n",
    "# df['text'] = pd.concat([raw_prep['text'], sum_prep['text']], ignore_index=True)\n",
    "# df['summary'] = pd.concat([raw_prep['headlines'], sum_prep['headlines']], ignore_index=True)"
   ]
  },
  {
   "cell_type": "code",
   "execution_count": 13,
   "metadata": {},
   "outputs": [
    {
     "data": {
      "text/html": [
       "<div>\n",
       "<style scoped>\n",
       "    .dataframe tbody tr th:only-of-type {\n",
       "        vertical-align: middle;\n",
       "    }\n",
       "\n",
       "    .dataframe tbody tr th {\n",
       "        vertical-align: top;\n",
       "    }\n",
       "\n",
       "    .dataframe thead th {\n",
       "        text-align: right;\n",
       "    }\n",
       "</style>\n",
       "<table border=\"1\" class=\"dataframe\">\n",
       "  <thead>\n",
       "    <tr style=\"text-align: right;\">\n",
       "      <th></th>\n",
       "      <th>text</th>\n",
       "      <th>summary</th>\n",
       "    </tr>\n",
       "  </thead>\n",
       "  <tbody>\n",
       "    <tr>\n",
       "      <th>0</th>\n",
       "      <td>Saurav Kant, an alumnus of upGrad and IIIT-B's...</td>\n",
       "      <td>upGrad learner switches to career in ML &amp; Al w...</td>\n",
       "    </tr>\n",
       "    <tr>\n",
       "      <th>1</th>\n",
       "      <td>Kunal Shah's credit card bill payment platform...</td>\n",
       "      <td>Delhi techie wins free food from Swiggy for on...</td>\n",
       "    </tr>\n",
       "    <tr>\n",
       "      <th>2</th>\n",
       "      <td>New Zealand defeated India by 8 wickets in the...</td>\n",
       "      <td>New Zealand end Rohit Sharma-led India's 12-ma...</td>\n",
       "    </tr>\n",
       "  </tbody>\n",
       "</table>\n",
       "</div>"
      ],
      "text/plain": [
       "                                                text  \\\n",
       "0  Saurav Kant, an alumnus of upGrad and IIIT-B's...   \n",
       "1  Kunal Shah's credit card bill payment platform...   \n",
       "2  New Zealand defeated India by 8 wickets in the...   \n",
       "\n",
       "                                             summary  \n",
       "0  upGrad learner switches to career in ML & Al w...  \n",
       "1  Delhi techie wins free food from Swiggy for on...  \n",
       "2  New Zealand end Rohit Sharma-led India's 12-ma...  "
      ]
     },
     "execution_count": 13,
     "metadata": {},
     "output_type": "execute_result"
    }
   ],
   "source": [
    "df.head(3)"
   ]
  },
  {
   "cell_type": "markdown",
   "metadata": {},
   "source": [
    "### **2. Cleaning data**\n",
    "\n",
    "Remove non-alphabetic characters from the dataset using regular expression library"
   ]
  },
  {
   "cell_type": "code",
   "execution_count": 14,
   "metadata": {},
   "outputs": [],
   "source": [
    "import re\n",
    "\n",
    "# Define function to clean data (ref: blog.paperspace)\n",
    "def text_strip(col):\n",
    "    for row in col:\n",
    "        row = re.sub(\"(\\\\t)\", \" \", str(row)).lower()\n",
    "        row = re.sub(\"(\\\\r)\", \" \", str(row)).lower()\n",
    "        row = re.sub(\"(\\\\n)\", \" \", str(row)).lower()\n",
    "\n",
    "        # Remove _ if it occurs more than one time consecutively\n",
    "        row = re.sub(\"(__+)\", \" \", str(row)).lower()\n",
    "\n",
    "        # Remove - if it occurs more than one time consecutively\n",
    "        row = re.sub(\"(--+)\", \" \", str(row)).lower()\n",
    "\n",
    "        # Remove ~ if it occurs more than one time consecutively\n",
    "        row = re.sub(\"(~~+)\", \" \", str(row)).lower()\n",
    "\n",
    "        # Remove + if it occurs more than one time consecutively\n",
    "        row = re.sub(\"(\\+\\++)\", \" \", str(row)).lower()\n",
    "\n",
    "        # Remove . if it occurs more than one time consecutively\n",
    "        row = re.sub(\"(\\.\\.+)\", \" \", str(row)).lower()\n",
    "\n",
    "        # Remove the characters - <>()|&©ø\"',;?~*!\n",
    "        row = re.sub(r\"[<>()|&©ø\\[\\]\\'\\\",;?~*!]\", \" \", str(row)).lower()\n",
    "\n",
    "        # Remove mailto:\n",
    "        row = re.sub(\"(mailto:)\", \" \", str(row)).lower()\n",
    "\n",
    "        # Remove \\x9* in text\n",
    "        row = re.sub(r\"(\\\\x9\\d)\", \" \", str(row)).lower()\n",
    "\n",
    "        # Replace INC nums to INC_NUM\n",
    "        row = re.sub(\"([iI][nN][cC]\\d+)\", \"INC_NUM\", str(row)).lower()\n",
    "\n",
    "        # Replace CM# and CHG# to CM_NUM\n",
    "        row = re.sub(\"([cC][mM]\\d+)|([cC][hH][gG]\\d+)\", \"CM_NUM\", str(row)).lower()\n",
    "\n",
    "        # Remove punctuations at the end of a word\n",
    "        row = re.sub(\"(\\.\\s+)\", \" \", str(row)).lower()\n",
    "        row = re.sub(\"(\\-\\s+)\", \" \", str(row)).lower()\n",
    "        row = re.sub(\"(\\:\\s+)\", \" \", str(row)).lower()\n",
    "\n",
    "        # Replace any url to only the domain name\n",
    "        try:\n",
    "            url = re.search(r\"((https*:\\/*)([^\\/\\s]+))(.[^\\s]+)\", str(row))\n",
    "            repl_url = url.group(3)\n",
    "            row = re.sub(r\"((https*:\\/*)([^\\/\\s]+))(.[^\\s]+)\", repl_url, str(row))\n",
    "        except:\n",
    "            pass\n",
    "\n",
    "        # Remove multiple spaces\n",
    "        row = re.sub(\"(\\s+)\", \" \", str(row)).lower()\n",
    "\n",
    "        # Remove the single character hanging between any two spaces\n",
    "        row = re.sub(\"(\\s+.\\s+)\", \" \", str(row)).lower()\n",
    "\n",
    "        yield row"
   ]
  },
  {
   "cell_type": "markdown",
   "metadata": {},
   "source": [
    "Clean the data by calling functions"
   ]
  },
  {
   "cell_type": "code",
   "execution_count": 15,
   "metadata": {},
   "outputs": [],
   "source": [
    "cleaned_text = text_strip(df['text'])\n",
    "cleaned_summary = text_strip(df['summary'])"
   ]
  },
  {
   "cell_type": "markdown",
   "metadata": {},
   "source": [
    "Load data as batches (using **spacy**) and enclosed the summaries with starting and closing tokens"
   ]
  },
  {
   "cell_type": "code",
   "execution_count": 16,
   "metadata": {},
   "outputs": [
    {
     "name": "stdout",
     "output_type": "stream",
     "text": [
      "Successfully load spaCy model (effiency)\n",
      "spaCy process for texts: Done\n",
      "spaCy process for summaries: Done\n"
     ]
    }
   ],
   "source": [
    "import spacy\n",
    "from time import time\n",
    "\n",
    "\n",
    "nlp = spacy.load('en_core_web_sm', disable=['ner', 'parser'])\n",
    "print(\"Successfully load spaCy model (effiency)\")\n",
    "\n",
    "text = [str(raw) for raw in nlp.pipe(cleaned_text, batch_size = 500, n_process=2)]\n",
    "print(\"spaCy process for texts: Done\")\n",
    "\n",
    "summary = ['_START_' + str(raw) + '_END_' for raw in nlp.pipe(cleaned_summary, batch_size=500, n_process=2)]\n",
    "print(\"spaCy process for summaries: Done\")"
   ]
  },
  {
   "cell_type": "markdown",
   "metadata": {},
   "source": [
    "The `_START_` and `_END_` tokens are used to determine the starting and ending points of the summaries, in which it could also be helpful to exclude the empty text."
   ]
  },
  {
   "cell_type": "code",
   "execution_count": 17,
   "metadata": {},
   "outputs": [
    {
     "name": "stdout",
     "output_type": "stream",
     "text": [
      "Original text\n",
      "Saurav Kant, an alumnus of upGrad and IIIT-B's PG Program in Machine learning and Artificial Intelligence, was a Sr Systems Engineer at Infosys with almost 5 years of work experience. The program and upGrad's 360-degree career support helped him transition to a Data Scientist at Tech Mahindra with 90% salary hike. upGrad's Online Power Learning has powered 3 lakh+ careers.\n",
      "\n",
      "Sample text\n",
      "saurav kant an alumnus of upgrad and iiit-b pg program in machine learning and artificial intelligence was sr systems engineer at infosys with almost years of work experience the program and upgrad 360-degree career support helped him transition to data scientist at tech mahindra with 90% salary hike upgrad online power learning has powered lakh+ careers.\n",
      "\n",
      "Summary\n",
      "_START_upgrad learner switches to career in ml al with 90% salary hike_END_\n"
     ]
    }
   ],
   "source": [
    "print(f\"Original text\\n{raw_prep.text[0]}\\n\\nSample text\\n{text[0]}\\n\\nSummary\\n{summary[0]}\")"
   ]
  },
  {
   "cell_type": "markdown",
   "metadata": {},
   "source": [
    "### **3. Examine the data**\n",
    "\n",
    "We will analyze the characteristics of the dataset, such as: maximum sequence lengths, most-frequent words, difference in length between raw texts and summaries."
   ]
  },
  {
   "cell_type": "code",
   "execution_count": 18,
   "metadata": {},
   "outputs": [],
   "source": [
    "df['cleaned_text'] = pd.Series(text)\n",
    "df['cleaned_summary'] = pd.Series(summary)"
   ]
  },
  {
   "cell_type": "code",
   "execution_count": 43,
   "metadata": {},
   "outputs": [],
   "source": [
    "# Save the data so we don't need to run spaCy again in the future\n",
    "df.to_csv('data/cleaned_data.csv', index=False)"
   ]
  },
  {
   "cell_type": "markdown",
   "metadata": {},
   "source": [
    "After creating the list of texts and summaries, we will split each sequences to a list consisting multiple words by using `split' built-in function. From the lists we have created, a graph will be drawn to determine the range of length, from which we can derive the maximum number of words that frequently fall into."
   ]
  },
  {
   "cell_type": "code",
   "execution_count": 45,
   "metadata": {},
   "outputs": [],
   "source": [
    "import seaborn as sns\n",
    "import matplotlib.pyplot as plt\n",
    "\n",
    "sns.set_theme(style=\"darkgrid\")\n",
    "\n",
    "text_cnt = []\n",
    "sum_cnt = []\n",
    "\n",
    "for text_seq, sum_seq in zip(df['cleaned_text'], df['cleaned_summary']):\n",
    "    text_cnt.append(len(text_seq.split()))\n",
    "    sum_cnt.append(len(sum_seq.split()))\n",
    "\n",
    "plot_df = pd.DataFrame()\n",
    "plot_df['text'] = text_cnt\n",
    "plot_df['summary'] = sum_cnt"
   ]
  },
  {
   "cell_type": "code",
   "execution_count": 46,
   "metadata": {},
   "outputs": [
    {
     "data": {
      "image/png": "[encoded data removed]",
      "text/plain": [
       "<Figure size 1152x288 with 2 Axes>"
      ]
     },
     "metadata": {},
     "output_type": "display_data"
    }
   ],
   "source": [
    "fig, ax = plt.subplots(1, 2, figsize=(16, 4))\n",
    "sns.histplot(data=plot_df, x=\"text\", color=\"skyblue\", label=\"text\", kde=True, bins=5, ax=ax[0])\n",
    "sns.histplot(data=plot_df, x=\"summary\", color=\"red\", label=\"summary\", kde=True, bins=5, ax=ax[1])\n",
    "\n",
    "plt.legend() \n",
    "plt.show()"
   ]
  },
  {
   "cell_type": "markdown",
   "metadata": {},
   "source": [
    "From the plot, we can confidently determine the maximum length of summaries would be 15 words. On the other hand, it seems like the range of texts is barely observerable. As said, we will use the violin plot to see the distribution density and determine the maximum length among them."
   ]
  },
  {
   "cell_type": "code",
   "execution_count": 21,
   "metadata": {},
   "outputs": [
    {
     "data": {
      "text/plain": [
       "count    390028.000000\n",
       "mean        504.556178\n",
       "std         381.093919\n",
       "min           1.000000\n",
       "25%          61.000000\n",
       "50%         476.000000\n",
       "75%         740.250000\n",
       "max       11999.000000\n",
       "Name: text, dtype: float64"
      ]
     },
     "execution_count": 21,
     "metadata": {},
     "output_type": "execute_result"
    }
   ],
   "source": [
    "plot_df['text'].describe()"
   ]
  },
  {
   "cell_type": "code",
   "execution_count": 47,
   "metadata": {},
   "outputs": [
    {
     "data": {
      "text/plain": [
       "count    390028.000000\n",
       "mean         37.860113\n",
       "std          23.986523\n",
       "min           1.000000\n",
       "25%          12.000000\n",
       "50%          38.000000\n",
       "75%          51.000000\n",
       "max        1211.000000\n",
       "Name: summary, dtype: float64"
      ]
     },
     "execution_count": 47,
     "metadata": {},
     "output_type": "execute_result"
    }
   ],
   "source": [
    "plot_df['summary'].describe()"
   ]
  },
  {
   "cell_type": "markdown",
   "metadata": {},
   "source": [
    "Since the data is heavily right skewed, we could remove some of the outliers by slicing (for visualization purpose only of course)"
   ]
  },
  {
   "cell_type": "code",
   "execution_count": 52,
   "metadata": {},
   "outputs": [
    {
     "data": {
      "image/png": "[encoded data removed]",
      "text/plain": [
       "<Figure size 576x288 with 1 Axes>"
      ]
     },
     "metadata": {},
     "output_type": "display_data"
    }
   ],
   "source": [
    "fig, ax = plt.subplots(1, 1, figsize=(8, 4))\n",
    "sns.violinplot(data=plot_df[plot_df.text < plot_df.text.mean() + plot_df.text.std()], x=\"text\", color=\"skyblue\", label=\"text\", ax=ax)\n",
    "plt.show()"
   ]
  },
  {
   "cell_type": "code",
   "execution_count": 54,
   "metadata": {},
   "outputs": [
    {
     "data": {
      "image/png": "[encoded data removed]",
      "text/plain": [
       "<Figure size 576x288 with 1 Axes>"
      ]
     },
     "metadata": {},
     "output_type": "display_data"
    }
   ],
   "source": [
    "fig, ax = plt.subplots(1, 1, figsize=(8, 4))\n",
    "sns.violinplot(data=plot_df[plot_df.summary < plot_df.summary.mean() + plot_df.summary.std()], x=\"summary\", color=\"skyblue\", label=\"text\", ax=ax)\n",
    "plt.show()"
   ]
  },
  {
   "cell_type": "markdown",
   "metadata": {},
   "source": [
    "The frequent lengths of texts fall into around 50 - 60 words. From here, we can assume the maximum length of texts to be 100 words, as almost sequences fall into the range below 100. But most of the input from users may not too short like that, so I decided to double the maximum length upto 200 words, just in case."
   ]
  },
  {
   "cell_type": "code",
   "execution_count": 60,
   "metadata": {},
   "outputs": [],
   "source": [
    "# Initialize the plausible length for texts and summaries\n",
    "max_text_len = 800\n",
    "max_sum_len = 60"
   ]
  },
  {
   "cell_type": "markdown",
   "metadata": {},
   "source": [
    "### **4. Select plausible texts and summaries**\n",
    "\n",
    "In this section, we will select plausible texts and summaries for further training progress based on the length criteria proposed above."
   ]
  },
  {
   "cell_type": "code",
   "execution_count": 61,
   "metadata": {},
   "outputs": [
    {
     "data": {
      "text/html": [
       "<div>\n",
       "<style scoped>\n",
       "    .dataframe tbody tr th:only-of-type {\n",
       "        vertical-align: middle;\n",
       "    }\n",
       "\n",
       "    .dataframe tbody tr th {\n",
       "        vertical-align: top;\n",
       "    }\n",
       "\n",
       "    .dataframe thead th {\n",
       "        text-align: right;\n",
       "    }\n",
       "</style>\n",
       "<table border=\"1\" class=\"dataframe\">\n",
       "  <thead>\n",
       "    <tr style=\"text-align: right;\">\n",
       "      <th></th>\n",
       "      <th>text</th>\n",
       "      <th>summary</th>\n",
       "    </tr>\n",
       "  </thead>\n",
       "  <tbody>\n",
       "    <tr>\n",
       "      <th>0</th>\n",
       "      <td>saurav kant an alumnus of upgrad and iiit-b pg...</td>\n",
       "      <td>_START_upgrad learner switches to career in ml...</td>\n",
       "    </tr>\n",
       "    <tr>\n",
       "      <th>1</th>\n",
       "      <td>kunal shah credit card bill payment platform c...</td>\n",
       "      <td>_START_delhi techie wins free food from swiggy...</td>\n",
       "    </tr>\n",
       "    <tr>\n",
       "      <th>2</th>\n",
       "      <td>new zealand defeated india by wickets in the f...</td>\n",
       "      <td>_START_new zealand end rohit sharma-led india ...</td>\n",
       "    </tr>\n",
       "  </tbody>\n",
       "</table>\n",
       "</div>"
      ],
      "text/plain": [
       "                                                text  \\\n",
       "0  saurav kant an alumnus of upgrad and iiit-b pg...   \n",
       "1  kunal shah credit card bill payment platform c...   \n",
       "2  new zealand defeated india by wickets in the f...   \n",
       "\n",
       "                                             summary  \n",
       "0  _START_upgrad learner switches to career in ml...  \n",
       "1  _START_delhi techie wins free food from swiggy...  \n",
       "2  _START_new zealand end rohit sharma-led india ...  "
      ]
     },
     "execution_count": 61,
     "metadata": {},
     "output_type": "execute_result"
    }
   ],
   "source": [
    "import numpy as np\n",
    "\n",
    "# We convert the dataframe to numpy for faster process\n",
    "cleaned_text = np.array(df['cleaned_text'])\n",
    "cleaned_summary = np.array(df['cleaned_summary'])\n",
    "\n",
    "processed_text = []\n",
    "processed_sum = []\n",
    "\n",
    "for text, summary in zip(cleaned_text, cleaned_summary):\n",
    "    if len(text.split()) <= max_text_len and len(summary.split()) <= max_sum_len:\n",
    "        processed_text.append(text)\n",
    "        processed_sum.append(summary)\n",
    "\n",
    "post_processed_df = pd.DataFrame({'text': processed_text, 'summary': processed_sum})\n",
    "post_processed_df.head(3)"
   ]
  },
  {
   "cell_type": "code",
   "execution_count": 62,
   "metadata": {},
   "outputs": [
    {
     "name": "stdout",
     "output_type": "stream",
     "text": [
      "Pre-processed dataset\n",
      "390028 sequences\n",
      "Post-processed dataset\n",
      "280344 sequences\n"
     ]
    }
   ],
   "source": [
    "print(f\"Pre-processed dataset\\n{len(df)} sequences\\nPost-processed dataset\\n{len(post_processed_df)} sequences\")"
   ]
  },
  {
   "cell_type": "markdown",
   "metadata": {},
   "source": [
    "Now, we add the indicator of starting point (`sot`: start of token) and ending point (`eot`: end of token) of sequence. This would help to determine the correct sequence during the tokenization phase.\n",
    "\n",
    "Speaking of tokenization, it is a way of seperating a piece of text into smaller units called tokens (can be either characters, words or sub-words). For example, we want tokenize the sequence \"Code is fun\" by remove the space delimeter. So it would become 3 different words: 'Code', 'is' and 'fun', which is also results of words tokenization.\n",
    "\n",
    "Another example would be tokenize the word \"science\" into s-c-i-e-n-c-e with characters tokenization, or into sc-ience with subwords tokenization (or n-gram).\n",
    "\n",
    "Tokenization is performed on the corpus (documents/dataset/sequence) to obtain tokens, and these tokens will be feed to the formation of vocabulary which is a set of unique tokens in the corpus. Note that the `sok` and `eos` are different from `_START_` and `_END_` notations since the later tokens are used to remove empty sequences."
   ]
  },
  {
   "cell_type": "code",
   "execution_count": 63,
   "metadata": {},
   "outputs": [],
   "source": [
    "post_processed_df['summary'] = post_processed_df['summary'].apply(lambda x: 'sot ' + x + ' eot')"
   ]
  },
  {
   "cell_type": "markdown",
   "metadata": {},
   "source": [
    "### **5. Tokenizing the dataset**\n",
    "\n",
    "Forming the train and test dataset"
   ]
  },
  {
   "cell_type": "code",
   "execution_count": 64,
   "metadata": {},
   "outputs": [],
   "source": [
    "from sklearn.model_selection import train_test_split\n",
    "\n",
    "x_tr, x_val, y_tr, y_val = train_test_split(\n",
    "    np.array(post_processed_df[\"text\"]),\n",
    "    np.array(post_processed_df[\"summary\"]),\n",
    "    test_size=0.2,\n",
    "    random_state=0,\n",
    "    shuffle=True,\n",
    ")"
   ]
  },
  {
   "cell_type": "code",
   "execution_count": 65,
   "metadata": {},
   "outputs": [],
   "source": [
    "# Tokenize the text to get the vocabulary, using keras libraries\n",
    "from tensorflow.keras.preprocessing.text import Tokenizer \n",
    "from tensorflow.keras.preprocessing.sequence import pad_sequences\n",
    "\n",
    "# Prepare a tokenizer on training data\n",
    "x_tokenizer = Tokenizer() \n",
    "x_tokenizer.fit_on_texts(list(x_tr))"
   ]
  },
  {
   "cell_type": "code",
   "execution_count": 66,
   "metadata": {},
   "outputs": [
    {
     "name": "stdout",
     "output_type": "stream",
     "text": [
      "after 256888\n",
      "the 4538277\n",
      "us 55428\n",
      "government 59958\n",
      "told 103413\n"
     ]
    }
   ],
   "source": [
    "# Print out some tokens from the tokenizer\n",
    "i = 5\n",
    "for key, value in x_tokenizer.word_counts.items():\n",
    "    if i == 0: break\n",
    "    print(key, value)\n",
    "    i-=1"
   ]
  },
  {
   "cell_type": "markdown",
   "metadata": {},
   "source": [
    "Excluding the very rare words"
   ]
  },
  {
   "cell_type": "code",
   "execution_count": 69,
   "metadata": {},
   "outputs": [
    {
     "name": "stdout",
     "output_type": "stream",
     "text": [
      "% of rare words in vocabulary:  65.9886578255343\n"
     ]
    }
   ],
   "source": [
    "thresh = 5 # occurs less than 5 times\n",
    "\n",
    "cnt = 0\n",
    "tot_cnt = 0\n",
    "\n",
    "for key, value in x_tokenizer.word_counts.items():\n",
    "    tot_cnt = tot_cnt + 1\n",
    "    if value < thresh:\n",
    "        cnt = cnt + 1\n",
    "    \n",
    "print(\"% of rare words in vocabulary: \", (cnt / tot_cnt) * 100)"
   ]
  },
  {
   "cell_type": "markdown",
   "metadata": {},
   "source": [
    "Since the rare words occupied the most in the vocabulary, we will tokenize the dataset again by using the total number of words minus the rare words.\n",
    "\n",
    "After that, by using the built-in function from keras, we will convert the text into number sequences, and padding the zeroes to ensure all sequences have the same length (which equal to the maximum length)"
   ]
  },
  {
   "cell_type": "code",
   "execution_count": 70,
   "metadata": {},
   "outputs": [
    {
     "name": "stdout",
     "output_type": "stream",
     "text": [
      "Size of vocabulary in the text corpus 132182\n"
     ]
    }
   ],
   "source": [
    "# Prepare a tokenizer but exclude the rare words\n",
    "x_tokenizer = Tokenizer(num_words = tot_cnt - cnt) \n",
    "x_tokenizer.fit_on_texts(list(x_tr))\n",
    "\n",
    "# Convert text sequences to integer sequences \n",
    "x_tr_seq = x_tokenizer.texts_to_sequences(x_tr) \n",
    "x_val_seq = x_tokenizer.texts_to_sequences(x_val)\n",
    "\n",
    "# Pad zero upto maximum length\n",
    "x_tr = pad_sequences(x_tr_seq,  maxlen=max_text_len, padding='post')\n",
    "x_val = pad_sequences(x_val_seq, maxlen=max_text_len, padding='post')\n",
    "\n",
    "# Size of vocabulary (+1 for padding token)\n",
    "x_voc = x_tokenizer.num_words + 1\n",
    "\n",
    "print(f\"Size of vocabulary in the text corpus {x_voc}\")"
   ]
  },
  {
   "cell_type": "markdown",
   "metadata": {},
   "source": [
    "Now let's prepare the tokenizer for summaries"
   ]
  },
  {
   "cell_type": "code",
   "execution_count": 71,
   "metadata": {},
   "outputs": [
    {
     "name": "stdout",
     "output_type": "stream",
     "text": [
      "% of rare words in vocabulary:  67.5746349967313\n",
      "Size of vocabulary in the summary corpus 40177\n"
     ]
    }
   ],
   "source": [
    "# Prepare a tokenizer on training data\n",
    "y_tokenizer = Tokenizer() \n",
    "y_tokenizer.fit_on_texts(list(y_tr))\n",
    "\n",
    "thresh = 5 # occurs less than 5 times\n",
    "\n",
    "cnt = 0\n",
    "tot_cnt = 0\n",
    "\n",
    "for key, value in y_tokenizer.word_counts.items():\n",
    "    tot_cnt = tot_cnt + 1\n",
    "    if value < thresh:\n",
    "        cnt = cnt + 1\n",
    "    \n",
    "print(\"% of rare words in vocabulary: \", (cnt / tot_cnt) * 100)\n",
    "\n",
    "# Prepare a tokenizer but exclude the rare words\n",
    "y_tokenizer = Tokenizer(num_words = tot_cnt - cnt) \n",
    "y_tokenizer.fit_on_texts(list(y_tr))\n",
    "\n",
    "# Convert text sequences to integer sequences \n",
    "y_tr_seq = y_tokenizer.texts_to_sequences(y_tr) \n",
    "y_val_seq = y_tokenizer.texts_to_sequences(y_val)\n",
    "\n",
    "# Pad zero upto maximum length\n",
    "y_tr = pad_sequences(y_tr_seq,  maxlen=max_sum_len, padding='post')\n",
    "y_val = pad_sequences(y_val_seq, maxlen=max_sum_len, padding='post')\n",
    "\n",
    "# Size of vocabulary (+1 for padding token)\n",
    "y_voc = y_tokenizer.num_words + 1\n",
    "\n",
    "print(f\"Size of vocabulary in the summary corpus {y_voc}\")"
   ]
  },
  {
   "cell_type": "markdown",
   "metadata": {},
   "source": [
    "### **6. Remove empty sequences**\n",
    "\n",
    "As we have disscued in preivous section, we will remove all empty summaries (which only have START and END tokens) and their associated texts from the data."
   ]
  },
  {
   "cell_type": "code",
   "execution_count": 72,
   "metadata": {},
   "outputs": [],
   "source": [
    "# Remove empty summaries, which only have 'START' and 'END' tokens\n",
    "index = []\n",
    "# Append the indices of empty sequences and remove with numpy\n",
    "for i in range(len(y_tr)):\n",
    "    cnt = 0\n",
    "    for j in y_tr[i]:\n",
    "        if j != 0:\n",
    "            cnt = cnt + 1\n",
    "    if cnt == 2:\n",
    "        index.append(i)\n",
    "\n",
    "y_tr = np.delete(y_tr, index, axis=0)\n",
    "x_tr = np.delete(x_tr, index, axis=0)"
   ]
  },
  {
   "cell_type": "markdown",
   "metadata": {},
   "source": [
    "Apply the same process for validation dataset"
   ]
  },
  {
   "cell_type": "code",
   "execution_count": 75,
   "metadata": {},
   "outputs": [],
   "source": [
    "# Remove empty summaries, which only have 'START' and 'END' tokens\n",
    "index = []\n",
    "# Append the indices of empty sequences and remove with numpy\n",
    "for i in range(len(y_val)):\n",
    "    cnt = 0\n",
    "    for j in y_val[i]:\n",
    "        if j != 0:\n",
    "            cnt = cnt + 1\n",
    "    if cnt == 2:\n",
    "        index.append(i)\n",
    "\n",
    "y_val = np.delete(y_val, index, axis=0)\n",
    "x_val = np.delete(x_val, index, axis=0)"
   ]
  },
  {
   "cell_type": "markdown",
   "metadata": {},
   "source": [
    "### **7. Construct the model**\n",
    "\n",
    "As the data is well-prepared until now, we will move on to create the model structure with the Tensorflow and Keras libraries"
   ]
  },
  {
   "cell_type": "code",
   "execution_count": 90,
   "metadata": {},
   "outputs": [],
   "source": [
    "# Import libraries for constructing models\n",
    "import tensorflow as tf\n",
    "from tensorflow.keras.layers import Input, LSTM, Embedding, Dense, Concatenate, TimeDistributed\n",
    "from tensorflow.keras.models import Model\n",
    "from tensorflow.keras.callbacks import EarlyStopping"
   ]
  },
  {
   "cell_type": "markdown",
   "metadata": {},
   "source": [
    "The Seq2Seq consist of encoders and decoders in its network. In the next cells, we will define the encoder and decoder pipelines and then assemble them together in the future steps."
   ]
  },
  {
   "cell_type": "markdown",
   "metadata": {},
   "source": [
    "#### **Model establishment**"
   ]
  },
  {
   "cell_type": "code",
   "execution_count": 91,
   "metadata": {},
   "outputs": [
    {
     "name": "stdout",
     "output_type": "stream",
     "text": [
      "Model: \"training_model\"\n",
      "__________________________________________________________________________________________________\n",
      " Layer (type)                   Output Shape         Param #     Connected to                     \n",
      "==================================================================================================\n",
      " encoder_inputs (InputLayer)    [(None, 800)]        0           []                               \n",
      "                                                                                                  \n",
      " encoder_embeddings (Embedding)  (None, 800, 200)    26436400    ['encoder_inputs[0][0]']         \n",
      "                                                                                                  \n",
      " encoder_lstm1 (LSTM)           [(None, 800, 300),   601200      ['encoder_embeddings[0][0]']     \n",
      "                                 (None, 300),                                                     \n",
      "                                 (None, 300)]                                                     \n",
      "                                                                                                  \n",
      " decoder_inputs (InputLayer)    [(None, None)]       0           []                               \n",
      "                                                                                                  \n",
      " encoder_lstm2 (LSTM)           [(None, 800, 300),   721200      ['encoder_lstm1[0][0]']          \n",
      "                                 (None, 300),                                                     \n",
      "                                 (None, 300)]                                                     \n",
      "                                                                                                  \n",
      " decoder_embeddings (Embedding)  (None, None, 200)   8035400     ['decoder_inputs[0][0]']         \n",
      "                                                                                                  \n",
      " encoder_lstm3 (LSTM)           [(None, 800, 300),   721200      ['encoder_lstm2[0][0]']          \n",
      "                                 (None, 300),                                                     \n",
      "                                 (None, 300)]                                                     \n",
      "                                                                                                  \n",
      " decoder_lstm (LSTM)            [(None, None, 300),  601200      ['decoder_embeddings[0][0]',     \n",
      "                                 (None, 300),                     'encoder_lstm3[0][1]',          \n",
      "                                 (None, 300)]                     'encoder_lstm3[0][2]']          \n",
      "                                                                                                  \n",
      " dense (TimeDistributed)        (None, None, 40177)  12093277    ['decoder_lstm[0][0]']           \n",
      "                                                                                                  \n",
      "==================================================================================================\n",
      "Total params: 49,209,877\n",
      "Trainable params: 49,209,877\n",
      "Non-trainable params: 0\n",
      "__________________________________________________________________________________________________\n"
     ]
    }
   ],
   "source": [
    "latent_dim = 300\n",
    "embedding_dim = 200\n",
    "rcurr_dropout = 0 # set to 0 for cuDNN implementation\n",
    "\n",
    "# Encoder\n",
    "encoder_inputs = Input(shape=(max_text_len, ), name=\"encoder_inputs\")\n",
    "\n",
    "# Embedding layer\n",
    "enc_emb = Embedding(x_voc, embedding_dim, trainable=True, name=\"encoder_embeddings\")(encoder_inputs)\n",
    "\n",
    "# Encoder LSTM 1\n",
    "encoder_lstm1 = LSTM(latent_dim, return_sequences=True,\n",
    "                     return_state=True, dropout=0.4,\n",
    "                     recurrent_dropout=rcurr_dropout, name=\"encoder_lstm1\")\n",
    "(encoder_output1, state_h1, state_c1) = encoder_lstm1(enc_emb)\n",
    "\n",
    "# Encoder LSTM 2\n",
    "encoder_lstm2 = LSTM(latent_dim, return_sequences=True,\n",
    "                     return_state=True, dropout=0.4,\n",
    "                     recurrent_dropout=rcurr_dropout, name=\"encoder_lstm2\")\n",
    "(encoder_output2, state_h2, state_c2) = encoder_lstm2(encoder_output1)\n",
    "\n",
    "# Encoder LSTM 3\n",
    "encoder_lstm3 = LSTM(latent_dim, return_state=True,\n",
    "                     return_sequences=True, dropout=0.4,\n",
    "                     recurrent_dropout=rcurr_dropout, name=\"encoder_lstm3\")\n",
    "(encoder_outputs, state_h, state_c) = encoder_lstm3(encoder_output2)\n",
    "\n",
    "# Set up the decoder, using encoder_states as the initial state\n",
    "decoder_inputs = Input(shape=(None, ), name=\"decoder_inputs\")\n",
    "\n",
    "# Embedding layer\n",
    "dec_emb_layer = Embedding(y_voc, embedding_dim, trainable=True, name=\"decoder_embeddings\")\n",
    "dec_emb = dec_emb_layer(decoder_inputs)\n",
    "\n",
    "# Decoder LSTM\n",
    "decoder_lstm = LSTM(latent_dim, return_sequences=True,\n",
    "                    return_state=True, dropout=0.4,\n",
    "                    recurrent_dropout=rcurr_dropout, name=\"decoder_lstm\")\n",
    "(decoder_outputs, decoder_fwd_state, decoder_back_state) = decoder_lstm(dec_emb, initial_state=[state_h, state_c])\n",
    "\n",
    "# Dense layer\n",
    "decoder_dense = TimeDistributed(Dense(y_voc, activation='softmax'), name=\"dense\")\n",
    "decoder_outputs = decoder_dense(decoder_outputs)\n",
    "\n",
    "# Define the model\n",
    "model = Model([encoder_inputs, decoder_inputs], decoder_outputs, name=\"training_model\")\n",
    "\n",
    "model.summary()"
   ]
  },
  {
   "cell_type": "markdown",
   "metadata": {},
   "source": [
    "#### **Restore tokenizer, weight and model(hidden section)**"
   ]
  },
  {
   "cell_type": "code",
   "execution_count": null,
   "metadata": {},
   "outputs": [],
   "source": [
    "# # Load text and summary tokenizer\n",
    "# with open('model/text_tokenizer.pickle', 'rb') as handle:\n",
    "#     x_tokenizer = pickle.load(handle)\n",
    "\n",
    "# with open('model/sum_tokenizer.pickle', 'rb') as handle:\n",
    "#     y_tokenizer = pickle.load(handle)\n",
    "\n",
    "# # Load the weights\n",
    "# w_encoder_embeddings = np.load('model/encoder_embeddings.npz', allow_pickle=True)\n",
    "# w_decoder_embeddings = np.load('model/decoder_embeddings.npz', allow_pickle=True)\n",
    "# w_encoder_lstm1 = np.load('model/encoder_lstm1.npz', allow_pickle=True)\n",
    "# w_encoder_lstm2 = np.load('model/encoder_lstm2.npz', allow_pickle=True)\n",
    "# w_encoder_lstm3 = np.load('model/encoder_lstm3.npz', allow_pickle=True)\n",
    "# w_decoder_lstm = np.load('model/decoder_lstm.npz', allow_pickle=True)\n",
    "# w_dense = np.load('model/dense.npz', allow_pickle=True)\n",
    "\n",
    "# x_voc = x_tokenizer.num_words + 1\n",
    "# y_voc = y_tokenizer.num_words + 1"
   ]
  },
  {
   "cell_type": "code",
   "execution_count": null,
   "metadata": {},
   "outputs": [],
   "source": [
    "# latent_dim = 300\n",
    "# embedding_dim = 200\n",
    "\n",
    "# # Encoder\n",
    "# encoder_inputs = Input(shape=(max_text_len, ), name=\"encoder_inputs\")\n",
    "\n",
    "# # Embedding layer\n",
    "# enc_emb = Embedding(x_voc, embedding_dim, trainable=True, name=\"encoder_embeddings\")(encoder_inputs)\n",
    "\n",
    "# # Encoder LSTM 1\n",
    "# encoder_lstm1 = LSTM(latent_dim, return_sequences=True,\n",
    "#                      return_state=True, dropout=0.4,\n",
    "#                      recurrent_dropout=0.4, name=\"encoder_lstm1\")\n",
    "# (encoder_output1, state_h1, state_c1) = encoder_lstm1(enc_emb)\n",
    "\n",
    "# # Encoder LSTM 2\n",
    "# encoder_lstm2 = LSTM(latent_dim, return_sequences=True,\n",
    "#                      return_state=True, dropout=0.4,\n",
    "#                      recurrent_dropout=0.4, name=\"encoder_lstm2\")\n",
    "# (encoder_output2, state_h2, state_c2) = encoder_lstm2(encoder_output1)\n",
    "\n",
    "# # Encoder LSTM 3\n",
    "# encoder_lstm3 = LSTM(latent_dim, return_state=True,\n",
    "#                      return_sequences=True, dropout=0.4,\n",
    "#                      recurrent_dropout=0.4, name=\"encoder_lstm3\")\n",
    "# (encoder_outputs, state_h, state_c) = encoder_lstm3(encoder_output2)\n",
    "\n",
    "# # Set up the decoder, using encoder_states as the initial state\n",
    "# decoder_inputs = Input(shape=(None, ), name=\"decoder_inputs\")\n",
    "\n",
    "# # Embedding layer\n",
    "# dec_emb_layer = Embedding(y_voc, embedding_dim, trainable=True, name=\"decoder_embeddings\")\n",
    "# dec_emb = dec_emb_layer(decoder_inputs)\n",
    "\n",
    "# # Decoder LSTM\n",
    "# decoder_lstm = LSTM(latent_dim, return_sequences=True,\n",
    "#                     return_state=True, dropout=0.4,\n",
    "#                     recurrent_dropout=0.2, name=\"decoder_lstm\")\n",
    "# (decoder_outputs, decoder_fwd_state, decoder_back_state) = decoder_lstm(dec_emb, initial_state=[state_h, state_c])\n",
    "\n",
    "# # Dense layer\n",
    "# decoder_dense = TimeDistributed(Dense(y_voc, activation='softmax'), name=\"dense\")\n",
    "# decoder_outputs = decoder_dense(decoder_outputs)\n",
    "\n",
    "# # Define the model\n",
    "# loaded_model = Model([encoder_inputs, decoder_inputs], decoder_outputs, name=\"training_model\")\n",
    "\n",
    "# loaded_model.summary()"
   ]
  },
  {
   "cell_type": "code",
   "execution_count": 1,
   "metadata": {},
   "outputs": [],
   "source": [
    "# loaded_model.layers[2].set_weights(w_encoder_embeddings['arr_0'])\n",
    "# loaded_model.layers[3].set_weights(w_decoder_embeddings['arr_0'])\n",
    "# loaded_model.layers[4].set_weights(w_encoder_lstm1['arr_0'])\n",
    "# loaded_model.layers[5].set_weights(w_encoder_lstm2['arr_0'])\n",
    "# loaded_model.layers[6].set_weights(w_encoder_lstm3['arr_0'])\n",
    "# loaded_model.layers[7].set_weights(w_decoder_lstm['arr_0'])\n",
    "# loaded_model.layers[8].set_weights(w_dense['arr_0'])"
   ]
  },
  {
   "cell_type": "markdown",
   "metadata": {},
   "source": [
    "### **8. Train the model**"
   ]
  },
  {
   "cell_type": "markdown",
   "metadata": {},
   "source": [
    "Configure GPUs"
   ]
  },
  {
   "cell_type": "code",
   "execution_count": 102,
   "metadata": {},
   "outputs": [
    {
     "name": "stdout",
     "output_type": "stream",
     "text": [
      "Num GPUs Available:  1\n"
     ]
    }
   ],
   "source": [
    "print(\"Num GPUs Available: \", len(tf.config.list_physical_devices('GPU')))"
   ]
  },
  {
   "cell_type": "code",
   "execution_count": 106,
   "metadata": {},
   "outputs": [
    {
     "name": "stdout",
     "output_type": "stream",
     "text": [
      "Virtual devices cannot be modified after being initialized\n"
     ]
    }
   ],
   "source": [
    "tf.debugging.set_log_device_placement(True)\n",
    "\n",
    "gpus = tf.config.list_physical_devices('GPU')\n",
    "if gpus:\n",
    "  # Restrict TensorFlow to only allocate 1GB of memory on the first GPU\n",
    "  try:\n",
    "    tf.config.set_logical_device_configuration(\n",
    "        gpus[0],\n",
    "        [tf.config.LogicalDeviceConfiguration(memory_limit=4096)])\n",
    "    logical_gpus = tf.config.list_logical_devices('GPU')\n",
    "    print(len(gpus), \"Physical GPUs,\", len(logical_gpus), \"Logical GPUs\")\n",
    "  except RuntimeError as e:\n",
    "    # Virtual devices must be set before GPUs have been initialized\n",
    "    print(e)"
   ]
  },
  {
   "cell_type": "markdown",
   "metadata": {},
   "source": [
    "Train model\n",
    "\n",
    "Input = texts (all) and summaries (all excluding the last word)\n",
    "\n",
    "Output = summaries (starting from 2nd word to last word) -> serve the purpose of predicting on next word in summary"
   ]
  },
  {
   "cell_type": "code",
   "execution_count": 107,
   "metadata": {},
   "outputs": [],
   "source": [
    "n_epochs = 50\n",
    "n_batch_size = 32"
   ]
  },
  {
   "cell_type": "code",
   "execution_count": 109,
   "metadata": {},
   "outputs": [
    {
     "name": "stdout",
     "output_type": "stream",
     "text": [
      "Epoch 1/50\n",
      "7009/7009 [==============================] - 4453s 633ms/step - loss: 3.4452 - val_loss: 3.2467\n",
      "Epoch 2/50\n",
      "7009/7009 [==============================] - 4422s 631ms/step - loss: 3.2334 - val_loss: 3.1504\n",
      "Epoch 3/50\n",
      "7009/7009 [==============================] - 4426s 631ms/step - loss: 3.1768 - val_loss: 3.1098\n",
      "Epoch 4/50\n",
      "7009/7009 [==============================] - 4410s 629ms/step - loss: 3.1256 - val_loss: 3.0823\n",
      "Epoch 5/50\n",
      "7009/7009 [==============================] - 4412s 630ms/step - loss: 3.0665 - val_loss: 2.9995\n",
      "Epoch 6/50\n",
      "7009/7009 [==============================] - 4412s 629ms/step - loss: 3.0179 - val_loss: 2.9770\n",
      "Epoch 7/50\n",
      "7009/7009 [==============================] - 4459s 636ms/step - loss: 2.9808 - val_loss: 2.9438\n",
      "Epoch 8/50\n",
      "7009/7009 [==============================] - 4407s 629ms/step - loss: 2.9465 - val_loss: 2.9427\n",
      "Epoch 9/50\n",
      "7009/7009 [==============================] - 4408s 629ms/step - loss: 2.9153 - val_loss: 2.9345\n",
      "Epoch 10/50\n",
      "7009/7009 [==============================] - 4425s 631ms/step - loss: 2.9059 - val_loss: 2.9259\n",
      "Epoch 11/50\n",
      "7009/7009 [==============================] - 4464s 637ms/step - loss: 2.8934 - val_loss: 2.9158\n",
      "Epoch 12/50\n",
      "7009/7009 [==============================] - 5070s 723ms/step - loss: 2.8880 - val_loss: 2.9283\n",
      "Epoch 13/50\n",
      "7009/7009 [==============================] - 4521s 645ms/step - loss: 2.8831 - val_loss: 2.9289\n",
      "Epoch 14/50\n",
      "7009/7009 [==============================] - 4419s 631ms/step - loss: 2.8763 - val_loss: 2.9246\n",
      "Epoch 14: early stopping\n"
     ]
    }
   ],
   "source": [
    "try:\n",
    "  # Specify an invalid GPU device\n",
    "  with tf.device('/device:GPU:0'):\n",
    "        # Optimizer and loss function\n",
    "        model.compile(optimizer='rmsprop', loss='sparse_categorical_crossentropy')\n",
    "\n",
    "        es = EarlyStopping(monitor='val_loss', mode='min', verbose=1, patience=3)\n",
    "\n",
    "        history = model.fit(\n",
    "            [x_tr, y_tr[:, :-1]], \n",
    "            y_tr.reshape(y_tr.shape[0], y_tr.shape[1], 1)[:, 1:],\n",
    "            epochs=n_epochs,\n",
    "            callbacks=[es],\n",
    "            batch_size=n_batch_size,\n",
    "            validation_data=([x_val, y_val[:, :-1]],\n",
    "                            y_val.reshape(y_val.shape[0], y_val.shape[1], 1)[:, 1:])\n",
    "            )\n",
    "except RuntimeError as e:\n",
    "  print(e)"
   ]
  },
  {
   "cell_type": "code",
   "execution_count": 110,
   "metadata": {},
   "outputs": [
    {
     "data": {
      "image/png": "[encoded data removed]",
      "text/plain": [
       "<Figure size 432x288 with 1 Axes>"
      ]
     },
     "metadata": {},
     "output_type": "display_data"
    }
   ],
   "source": [
    "sns.lineplot(x=range(0, len(history.history['loss'])), y=history.history['loss'], label='train')\n",
    "sns.lineplot(x=range(0, len(history.history['loss'])), y=history.history['val_loss'], label='test')\n",
    "\n",
    "plt.legend()\n",
    "plt.show()"
   ]
  },
  {
   "cell_type": "markdown",
   "metadata": {},
   "source": [
    "### **9. Save model layers and weights**"
   ]
  },
  {
   "cell_type": "code",
   "execution_count": 111,
   "metadata": {},
   "outputs": [
    {
     "name": "stderr",
     "output_type": "stream",
     "text": [
      "c:\\Users\\Bin\\anaconda3\\lib\\site-packages\\numpy\\lib\\npyio.py:713: VisibleDeprecationWarning: Creating an ndarray from ragged nested sequences (which is a list-or-tuple of lists-or-tuples-or ndarrays with different lengths or shapes) is deprecated. If you meant to do this, you must specify 'dtype=object' when creating the ndarray.\n",
      "  val = np.asanyarray(val)\n"
     ]
    }
   ],
   "source": [
    "# Save the text and summary tokenizer\n",
    "import pickle\n",
    "\n",
    "with open('model/text_tokenizer.pickle', 'wb') as handle:\n",
    "    pickle.dump(x_tokenizer, handle, protocol=pickle.HIGHEST_PROTOCOL)\n",
    "\n",
    "with open('model/sum_tokenizer.pickle', 'wb') as handle:\n",
    "    pickle.dump(y_tokenizer, handle, protocol=pickle.HIGHEST_PROTOCOL)\n",
    "\n",
    "# Save the weights individually\n",
    "for layer in model.layers:\n",
    "    weights = layer.get_weights()\n",
    "    if weights != []:\n",
    "        np.savez(f'model/{layer.name}.npz', weights)"
   ]
  },
  {
   "cell_type": "markdown",
   "metadata": {},
   "source": [
    "### **10. Inference model**"
   ]
  },
  {
   "cell_type": "code",
   "execution_count": 112,
   "metadata": {},
   "outputs": [],
   "source": [
    "reverse_target_word_index = y_tokenizer.index_word\n",
    "reverse_source_word_index = x_tokenizer.index_word\n",
    "target_word_index = y_tokenizer.word_index"
   ]
  },
  {
   "cell_type": "code",
   "execution_count": 113,
   "metadata": {},
   "outputs": [],
   "source": [
    "# Encode the input sequence to get the feature vector\n",
    "encoder_model = Model(inputs=encoder_inputs, outputs=[encoder_outputs, state_h, state_c])\n",
    "\n",
    "# Decoder\n",
    "decoder_state_input_h = Input(shape=(latent_dim, ))\n",
    "decoder_state_input_c = Input(shape=(latent_dim, ))\n",
    "decoder_hidden_state_input = Input(shape=(max_text_len, latent_dim))\n",
    "\n",
    "# Get the embeddings of the decoder sequence\n",
    "dec_emb2 = dec_emb_layer(decoder_inputs) # Reuse the defined decoder Embedding layer\n",
    "\n",
    "# To predict the next word in the sequence, set the initial states to the states from the previous time step\n",
    "(decoder_outputs2, state_h2, state_c2) = decoder_lstm(dec_emb2, initial_state=[decoder_state_input_h, decoder_state_input_c])\n",
    "\n",
    "# A dense softmax layer to generate prob dist. over the target vocabulary\n",
    "decoder_outputs2 = decoder_dense(decoder_outputs2) # Reuse the defined TimeDistributed Dense layer\n",
    "\n",
    "# Final decoder model\n",
    "decoder_model = Model([decoder_inputs] + [decoder_hidden_state_input, decoder_state_input_h, decoder_state_input_c],\n",
    "                      [decoder_outputs2] + [state_h2, state_c2])"
   ]
  },
  {
   "cell_type": "code",
   "execution_count": 114,
   "metadata": {},
   "outputs": [],
   "source": [
    "def decode_sequence(input_seq):\n",
    "    # Encode the input sequence\n",
    "    (enc_out, enc_h, enc_c) = encoder_model.predict(input_seq)\n",
    "    # Generate empty target sequence of length 1\n",
    "    target_seq = np.zeros((1,1))\n",
    "    # Populate the first word of target sequence with the 'start of token' word\n",
    "    target_seq[0, 0] = target_word_index['sot']\n",
    "\n",
    "    stop_condition = False\n",
    "    decoded_sentence = ''\n",
    "\n",
    "    while not stop_condition:\n",
    "        (output_tokens, h, c) = decoder_model.predict([target_seq] + [enc_out, enc_h, enc_c])\n",
    "\n",
    "        # Sample a token, predict the upcoming word by choosing the one with highest probability attached\n",
    "        sampled_token_index = np.argmax(output_tokens[0, -1, :])\n",
    "        sampled_token = reverse_target_word_index[sampled_token_index]\n",
    "\n",
    "        if sampled_token != 'eot':\n",
    "            decoded_sentence += ' ' + sampled_token\n",
    "\n",
    "        # Exit condition: either hit max length or find the 'end of token' word.\n",
    "        if sampled_token == 'eot' or len(decoded_sentence.split()) >= max_sum_len - 1:\n",
    "            stop_condition = True\n",
    "\n",
    "        # Update the target sequence (of length 1)\n",
    "        target_seq = np.zeros((1, 1))\n",
    "        target_seq[0, 0] = sampled_token_index\n",
    "\n",
    "        # Update internal states\n",
    "        (enc_h, enc_c) = (h, c)\n",
    "\n",
    "    return decoded_sentence"
   ]
  },
  {
   "cell_type": "code",
   "execution_count": 115,
   "metadata": {},
   "outputs": [],
   "source": [
    "# Convert sequence to summary by looking up the reversed map of word to indices (i.e: 'word': index)\n",
    "# Note: sequence is in numerical form\n",
    "def seq2sum(input_seq):\n",
    "    newText = ''\n",
    "    for i in input_seq:\n",
    "        if i != 0 and i != target_word_index['sot'] and i != target_word_index['eot']:\n",
    "            newText = newText + reverse_target_word_index[i] + ' '\n",
    "    \n",
    "    return newText\n",
    "\n",
    "# Convert sequence to summary by looking up the reversed map of word to indices (i.e: 'word': index)\n",
    "# Note: sequence is in numerical form\n",
    "def seq2text(input_seq):\n",
    "    newText = ''\n",
    "    for i in input_seq:\n",
    "        if i != 0:\n",
    "            newText = newText + reverse_source_word_index[i] + ' '\n",
    "\n",
    "    return newText"
   ]
  },
  {
   "cell_type": "markdown",
   "metadata": {},
   "source": [
    "### **11. Prediction tests**"
   ]
  },
  {
   "cell_type": "code",
   "execution_count": 116,
   "metadata": {},
   "outputs": [],
   "source": [
    "def summary_predictions(num_of_tests):\n",
    "    for i in range(0, num_of_tests):\n",
    "        print('Text:', seq2text(x_tr[i]))\n",
    "        print('Original summary:', seq2sum(y_tr[i]))\n",
    "        print('Predicted summary:', decode_sequence(x_tr[i].reshape(1, max_text_len)))\n",
    "        print('\\n')"
   ]
  },
  {
   "cell_type": "code",
   "execution_count": 117,
   "metadata": {},
   "outputs": [
    {
     "name": "stdout",
     "output_type": "stream",
     "text": [
      "Text: after the us government told india and other countries to cut oil imports from iran to zero or face sanctions the congress asked prime minister narendra modi if india would adhere to the order it asked will the prime minister and petroleum minister tell the nation its impact on petrol prices and national interests iran is india third largest oil supplier \n",
      "Original summary: start will pm stop oil imports from iran as directed by us cong end \n",
      "Predicted summary:  start ready to buy us govt to buy us govt to buy iran end\n",
      "\n",
      "\n",
      "Text: recounting anantnag terror attack one of the survivors said the firing didn last for more than 20 seconds and we couldn see who was firing as it was dark outside he further said people just rolled on the bus floor over one another another survivor said the people sitting near the driver cabin bore the brunt but the driver survived \n",
      "Original summary: start firing didn last for over amarnath attack survivor end \n",
      "Predicted summary:  start i felt like no attack on k cm end\n",
      "\n",
      "\n",
      "Text: chinese authorities have seized almost 000 rolls of toilet paper and another 20 000 packages of tissues embossed with unflattering images of hong kong pro beijing chief executive the items featuring chief executive leung chun ying were to be sold at market in hong kong during lunar new year celebrations later this month they were bought by the hong kong democratic party which is said to have made hk 100 000 â£8 500 selling 000 rolls of the same toilet paper last year the party vice chairman lo kin hei said it planned to earn more cash this year by selling the products during the island lunar new year fair scroll down for video hong kong democratic party vice chairman lo kin hei shows off rolls of toilet paper and packages of tissue paper printed with images of pro beijing hong kong chief executive leung chun ying chinese authorities have seized almost 000 rolls of the toilet paper and another 20 000 packages of tissues embossed with unflattering images of hong kong pro beijing chief executive the seizure came after hong kong was shaken by massive pro democracy movement in which demonstrators demanded greater electoral freedom than beijing is willing to grant during the demonstrations protesters expressed anger at chief executive leung chun ying calling him puppet of beijing and asked him to step down no reason was given for the seizure of the 12 900 dollars worth â£8 500 of goods in the chinese city of shenzhen mr lo said guess the chinese authorities don like people mocking government officials especially high ranking government officials after the movement they have become more cautious about criticisms about them he said the party 4 000 rolls of toilet paper with mr leung image sold out at last year seasonal market and it decided to get more this year from factory in shenzhen mr lo said the images of mr leung see him bearing two fangs and another has the word lying on his forehead the sickle and hammer symbol of the communist party of china also appears on some products the images of mr leung are cartoonish and unflattering one has him bearing two fangs and another has the word lying on his forehead the sickle and hammer symbol of the communist party of china also appears on some products the order was placed under the name of friend to obscure the party as the true buyer and all communications were done through the friend instead of the party mr lo said he declined to reveal the factory name and said he had no information on the whereabouts of the factory owner we are worried about what has happened to him mr lo said mr lo said the seizure indicates further tightening by chinese authorities on freedom of speech which is guaranteed in hong kong constitution many productions in hong kong rely on the mainland this kind of tightening means in the future it will be more difficult to make products in the mainland it for hong kong people that they keep suppressing freedom in hong kong we will become the mainland if this kind of mocking will be not allowed in hong kong leung chun ying chief executive of the hong kong special administrative region â the seizure came after hong kong was shaken by massive pro democracy movement in which demonstrators demanded greater electoral freedom than beijing is willing to grant protesters carrying yellow umbrellas the symbol of the occupy movement play with roly poly toy mocking hong kong chief executive leung chun ying during march in hong kong on february the march is the first large scale demonstration since the occupy central protest ended last year as the government started second round of public consultation on democratic reform the banner reads no fake democracy want genuine universal suffrage \n",
      "Original summary: start items were for market in hong kong during lunar new year celebrations the rolls feature chief executive leung chun ying in unflattering images after hong kong shaken by massive pro democracy movement see him bearing two fangs another has word lying on forehead 000 rolls with mr leung image sold out at last year seasonal market end \n",
      "Predicted summary:  start hong kong based firm has been removed from chinese factory site in china the chinese government has been removed from chinese factory site in china end\n",
      "\n",
      "\n",
      "Text: jose mourinho blamed the referee for turning chelseaâs pre season preparations into as the blues lost 3 0 to werder bremen referee harm from hannover gave two soft penalties to the home side â one for handball by john terry and another for nathan ake last ditch tackle â and mourinho was unimpressed calling both decisions ânonsenseâ the heavy loss on german soil ends this two week leg of the bluesâ european pre season tour with their first defeat and they fly back to london on sunday night with mourinho feeling disappointed with the way things have gone video scroll down to watch ludovic obraniak brilliant glancing header against chelsea anger â jose mourinho blamed the referee for turning chelseaâs pre season preparations into well if you don laugh mourinho was pictured in the dugout finding one decision highly amusing pointing to the spot john terry was adjudged to have handled in the box decision mourinho called nonsense video chelsea need games mourinho âi learned nothing from this game â mourinho said âour expectations are not fulfilled because when we decided to have this match here in bremen we thought about an evolution in difficulty âwe were expecting fast game competitive game but we come here and the referee thought this was circus for bremen fans â for them to have fun and he killed the match âthis game for us would have been perfect like the werder bremen team they are fast intense and they defend with lot of people the opponent is perfect for is to compete today but we couldn play â the portuguese coach felt disrupted the game and made it pointless exercise for his side tough call nathan ake gave away penalty against bremen after last ditch challenge tricky striker didier drogba was largely ineffectual during the defeat away in germany tucked away nicely felix kroos strokes home bremen second penalty of the afternoon late on run outs cesc fabregas and kurt zouma both got valuable match time under their belts chelsea often found their attacks broken up by the refereeâs whistle and struggled to create chances despite the likes of cesc fabregas â who played 90 minutes and eden hazard â second half substitute â being on the field âevery foul he gave free kick against us to stop the game and when we had advantage he stopped the game for free kick which stopped us playing âthe penalties especially the last one were nonsense âi am disappointed with that because we want to train and the referee didn let us have good session mourinho later told chelsea tv the referee gave the penalty against ake to finish his job in this beautiful party because it was beautiful party for werder bremen when the referee behaves this one did this is not friendly anymore \n",
      "Original summary: start harm handed the home side two penalties as they won 3 0 john terry was to have handled inside the box youngster nathan ake gave spot kick away after last ditch tackle mourinho said he learned nothing from the friendly end \n",
      "Predicted summary:  start chelsea beat everton 1 0 in their opening game in the fa cup semi final clash with chelsea and chelsea face atletico madrid in the semi finals on tuesday night end\n",
      "\n",
      "\n",
      "Text: by ted thornhill published 03 42 est 15 october 2013 updated 10 35 est 15 october 2013 downton abbey creator julian fellowes is at the centre of another row after claiming that only those with an âexpensive educationâ like the one he had are able to understand william shakespeare plays he made the comment in response to criticisms by shakespeare scholars over the rewriting of dialogue in his recently released screen version of romeo and juliet starring hailee steinfeld douglas booth and damian lewis caitlin griffin from the folger shakespeare library in washington dc home to the worldâs largest collection of shakespeare materials was sceptical about fellowes approach controversy julian fellowes left has claimed that only those with an expensive education can properly understand the works of william shakespeare right she told the daily telegraph adaptation while poetic and set in the period of shakespeareâs play is not using shakespeareâs language the advertising hasnât been very clear on this fact â and professor michael dobson the director of the university of birmingham shakespeare institute in stratford told the paper âi think it is interesting that there is trend at the moment to replace some of the bits of difficult vocabulary in shakespeare to make it clearer and that is clearly what fellowes has done with this script though some of it sounds little bit clunky in the trailer â but fellowes dismissed the comments claiming that the language had to be dumbed down as only those whoâve attended elite universities are capable of engaging with shakespeareâs works he told the bbc âto see the original in its absolutely unchanged form you require kind of scholarship and you need to understand the language and analyse it and so on âi can do that because had very expensive education went to cambridge not everyone did that â however royal shakespeare company actress janet suzman told the guardian that âyou donât need to have an education to respond to itâ and that âif talented actors understand what theyâre doing and can communicate that then thatâs all you needâ professor stanley wells author of shakespeare sex and love and honorary president of the shakespeare birthplace trust echoed these thoughts not all education has to be expensive know excellent who went to comprehensive schools professor stanley wells president of the shakespeare birthplace trust he told mailonline not all education has to be expensive know excellent who went to comprehensive schools shakespeare language runs the gamut from passages of considerable intellectual complexity as for instance in some of the speeches of and cressida to others of sublime simplicity such as the reunion of lear and cordelia one of the advantages of seeing and hearing shakespeare well acted is that the actors have done some of the work of comprehension for you so that the listener may understand the feeling behind the lines without necessarily being able to paraphrase them but nothing will come of nothing as lear says it not unreasonable to hope that people young or old should make an effort to educate themselves into state where they can understand and enjoy some of the greatest works ever written penelope ceo of shakespeare schools festival which is giving 25 000 students across the uk the chance to perform shakespeare in their local theatre also disagreed with fellowes assertion arguing that children from all walks of life are able to enjoy his plays she said when children are given the opportunity to frame shakespeare in their own terms the magic begins we call it csi shakespeare â to challenge support and inspire every child through performing shakespeareâs work any child whatever their background and regardless of any learning physical or cultural challenge they may be facing can grasp the great words and make them their own douglas booth and hailee steinfeld star in romeo and juliet mr remarks follow controversy over rape scene in downton abbey that attracted more than 200 complaints he defended the scene saying the director had shown restraint in cutting away to other rooms of the house and it could have been much more graphic he told the bbc the whole point of the way we do things on downton is we don do them gratuitously we are interested in exploring the resultant emotions and the effect these things have on people â \n",
      "Original summary: start fellowes made the remark after criticism of his version of romeo and juliet the downton abbey creator attended cambridge university one shakespeare scholar said the dialogue in romeo and juliet was leading shakespeare scholar stanley wells has taken issue with fellowes end \n",
      "Predicted summary:  start lord of the university of the vote is the latest film in the film the film is now being used to be used to be used to be used to be used to be used to be used to be used to be used to be used to be used to be banned end\n",
      "\n",
      "\n",
      "Text: by david kent luis muriel has sought to end speculation about his future by announcing he wants to stay at udinese next season the 23 year old striker who has been at udinese since 2010 had been strongly linked with move away from the friuli stadium this summer with liverpool fiorentina and roma reportedly keen to acquire the colombia international services however muriel is contracted to udinese until june 2018 and has expressed his wish to stay put going nowhere luis muriel has ruled out summer move from udinese despite interest from other clubs room for improvement muriel managed only four goals in 24 serie appearances last season we start again pre season training muriel said on his instagram account want to thank udine and udinese for giving me so many years of joy and just few disappointments wish to remain here at udinese this club has always believed in me and it here where want to establish myself as player return to train with lot of enthusiasm and will with the help of my team mates hope we can give the fans lot of joy this coming season muriel who was left out of colombia final world cup squad scored four goals in 24 league appearances for udinese in the 2013 14 campaign loyal muriel pictured celebrating goal against ac milan says he wants to establish himself at udinese \n",
      "Original summary: start muriel says he does not want to leave udinese this summer the 23 year old has been linked to liverpool roma and fiorentina the colombia international has contract until 2018 end \n",
      "Predicted summary:  start juventus have signed contract extension for the italian giants ac milan are interested in signing luis suarez and fernando alonso also linked with move to serie club end\n",
      "\n",
      "\n",
      "Text: author chetan bhagat said he glad that the government is going to sell black hole air india adding it can never make money stating that the airline burns taxpayer money bhagat said that the ã¢ââ¹30 000 crore pumped into the airline by the government is all wasted and gone now earlier the government gave its in principle approval for air india disinvestment \n",
      "Original summary: start air india black hole burns taxpayer money chetan bhagat end \n",
      "Predicted summary:  start air india is not selling india to be worth of govt end\n",
      "\n",
      "\n",
      "Text: stunned motorists slammed on their brakes when high voltage power cable snapped and landed on passing motorcyclist causing him to instantly burst into flames the incident happened on main road running through county in southern china jiangxi province when the biker shaiming liang 33 was hit on the head by the falling cable his body instantly burst into flames and then the bike exploded killing him in the process horrific the motorcyclist died after aâ high voltage power snapped and landed on passing motorcyclist wrapping around his neck and causing him to burst into flames eyewitness gang shih 27 said it was horrible heard bang and someone scream and when looked saw smoke coming from crash scene at first didn realise that the crash was just one person but then saw it was just bike and no other vehicles and that high voltage cable had fallen on the driver the smoke was coming from the man if was as if pouring out from his body and then he burst into flames ll never forget the sight it burned into my memory after the main electricity pylon running along the road was eventually switched off firemen were able remove mr shaiming body from the burned wreck of his vehicle pictures of the scene show the cable had wrapped itself round his neck as he was driving past and had burned itself into his neck as soon as he had touched it tragic accident pictures of the scene show the cable had wrapped itself around mr shaiming neck as he was driving past and had burned itself into his neck as soon as he had touched it shocking eyewitness gang shih 27 said it was horrible heard bang and someone scream and when looked saw smoke coming from crash scene details of the crash came as it emerged two chinese street cleaners have been killed and three others left with serious injuries after they were mown down by car in xining qinghai province the tragedy happened when white ford driven by 53 year old man named ye kung suddenly swerved and collided with car coming in the opposite direction the force of the collision had sent the white car back across the road where it ploughed into the group of five sanitation workers as they were attempting to remove litter from blocked drain emergency services rushed to the incident that happened on road leading into the city of xining in north western china qinghai province but were too late to help one of the workers who was declared dead at the scene second man died on the way to hospital and three others were all hospitalised with serious injuries \n",
      "Original summary: start liang killed when power cable snapped and hit him on head 33 year old had been driving through county in southern china cable looped around his neck and caused him to crash his motorcycle seconds later he burst into flames which caused his bike to explode end \n",
      "Predicted summary:  start crash occurred in the car in the crash in china he was struck by the car and was struck by lorry driver was struck by the head of the head of the head of the crash end\n",
      "\n",
      "\n",
      "Text: nfl commissioner roger goodell failed to attend the 49ers season opener on sunday as pressure mounted for him to resign following the ray rice domestic violence scandal nfl commissioner roger goodell dodged an appearance at 49ers game on sunday as pressure mounted on him to resign in the wake of the ray rice domestic violence scandal goodell who has been under intense pressure since video appeared showing rice punching his then fiancee unconscious had agreed to watch the san francisco team season opener at the newly constructed levi stadium he had indicated he would attend as early as april 2012 when construction of the stadium first began the president of the 49ers marathe had earlier said he had expected goodell at the game according to the huffington post the no show capped off week which american media dubbed the worst week in the history of the nfl it follows video released by tmz on september showing rice punching janay palmer in an elevator in atlantic city the baltimore ravens player was later released by his team and indefinitely suspended by the nfl punishment that was criticised for being too lenient and too late goodell claimed he hadn seen the most graphic portion of the video an earlier version of the footage had been given to nfl bosses months before after an initial version of the video was released in february rice was given two game suspension which led to calls for goodell to resign the nfl has history of imposing only minor punishments on players accused of domestic violence terry neill president of the national organization for women this week said the only workable solution was for goodell to resign scroll down for video plane tows banner which reads goodell must go before the start of game between the arizona cardinals and the new york giants the tmz video shows rice punching his then fiancee janay palmer in the face while they were in an elevator palmer can be seen lying unconscious on the ground in atlantic city as rice stands over her rice was initially given two game suspension before being indefinitely suspended by the nfl he told the boston globe that the league needed new leadership to change the culture of violence against women that pervades the nfl in another incident over the weekend minnesota vikings player adrian peterson appeared in court accused of striking his four year old son 10 15 times with tree branch the 29 year old was freed on bail on charge of causing injury to child after turning himself in to texas police after warrant was issued for his arrest vikings player adrian peterson has been charged with striking his four year old son with tree branch peterson smiles for police mugshot after turning himself in after warrant was issued for his arrest his son suffered injuries to his back hands buttocks ankles legs and scrotum and in third incident carolina panthers player greg hardy is awaiting trial on charges of assault on female and communicating threats authorities said he had chocked his then girlfriend threw her around dragged her by her hair and had threatened to kill her hardy was found guilty by judge in july and was sentenced to 18 months of probation and was given 60 day suspended sentence he then appealed the verdict and is now set to appear before jury in november \n",
      "Original summary: start goodell said as early as april 2012 that he would attend season opener violence group calls for new nfl management to change culture of violence no show follows case of another player charged with assaulting child end \n",
      "Predicted summary:  start nfl quarterback michael will be banned from the nfl player in the nfl game he will be banned from the nfl player in the nfl game he has been criticized for the nfl and the nfl player end\n",
      "\n",
      "\n",
      "Text: by alasdair glennie published 17 09 est october 2013 updated 17 41 est october 2013 left wing friends newsnight editor ian katz mi5âs scathing criticisms of the guardian newspaper were underplayed by the bbc it was claimed last night the corporationâs flagship current affairs show newsnight which is edited by former guardian executive ian katz failed to report spy chief andrew parkerâs speech on tuesday other bbc reports including the news at ten online articles and radio bulletins referred to his speech but made no mention of his key claim that the left leaning newspaper had done âenormous damageâ tory mp conor burns who sits on the culture media and sport committee said âit is extraordinary that the biggest security story for generation wasnât deemed worthy of comment by the bbcâs leading investigative news programme âthere seems to be clear conflict of interest when its editor has so recently taken the shilling the whole tone of the bbcâs coverage of this issue seems to indicate clear editorial bias âthey appear to be protecting their left wing friendsâ the bbc did not change its online coverage to reflect the row until guardian editor alan rusbridger publicly defended his newspaper yesterday he appeared on radio 4âs world at one programme where he was largely unchallenged to say his paperâs coverage had prompted ânecessary debateâ only then did the bbc update its online news articles to reflect the guardianâs critical role in the leaks with the headline âguardian to publish more snowden intelligence before joining newsnight last month mr katz worked for the guardian for 23 years and served as its deputy editor mr parker made his speech at the royal united services institute in whitehall on tuesday his unambiguous warnings about contrasted with the bbcâs reluctance to use the word in its reports the corporation was criticised during its coverage of the recent kenyan massacre for describing the perpetrators as debate guardian editor alan rusbridger the bbc ignored the mi chief criticism of the paper the mail coverage of andrew parker speech although the speech was covered by the bbcâs news at ten on tuesday it ignored mr parkerâs criticisms of the guardian instead reporter gordon chose to focus on mr parkerâs general warnings that the security of the uk was under threat and made no reference to the newspaper at 10 30pm newsnight chose to ignore the subject surprisingly the current affairs show did find time to screen an interview with jimmy choo founder tamara mellon fury the spy chief mi5 director general andrew parker has blasted the guardian publication of britain espionage capabilities online the bbc news websiteâs main article on mr parkerâs speech â written by security correspondent frank gardner â also glossed over mr parkerâs criticisms entitled chief andrew parker warns of islamist threat to ukâ it made only passing reference to the role of the guardian in the affair the following morning news bulletins on bbc radio failed to mention the newspaper at all tory mp rob wilson said âthe guardian is being accused of putting the safety of the public in danger but the bbc has done virtually nothing to inform its own licence fee payers about it âthe behaviour and the regulation of the press is once again in the public eye but the bbc is in danger of presenting very partial and distorted view of the behaviour of newspapers â bbc spokesman said the fact mr katz used to work for the guardian had âabsolutely no on his editorial judgment he added didnât cover the story on tuesday because it was covered thoroughly on the news at ten and we didnât feel we could add significantly to that coverage and because newsnight devoted 30 minutes to report interview and debate about many of the same issues last week âthis is an on going story which bbc news has covered as it developed including the criticisms from andrew parker and we will continue to cover it â \n",
      "Original summary: start bbc downplays mi5 chief scathing condemnation of the guardian newsnight editor is former guardian executive ian katz they appear to be protecting left wing friends tory mp end \n",
      "Predicted summary:  start lord of bbc editor of bbc editor of bbc editor of bbc editor said he was targeted by bbc editor of the bbc editor of the bbc editor end\n",
      "\n",
      "\n"
     ]
    }
   ],
   "source": [
    "n_of_tests = 10\n",
    "summary_predictions(n_of_tests)"
   ]
  }
 ],
 "metadata": {
  "interpreter": {
   "hash": "3af1830e371a1e641ae9a09e37678648af2d96934da6c152ccb073cefab57d12"
  },
  "kernelspec": {
   "display_name": "Python 3.9.7 ('base')",
   "language": "python",
   "name": "python3"
  },
  "language_info": {
   "codemirror_mode": {
    "name": "ipython",
    "version": 3
   },
   "file_extension": ".py",
   "mimetype": "text/x-python",
   "name": "python",
   "nbconvert_exporter": "python",
   "pygments_lexer": "ipython3",
   "version": "3.9.7"
  },
  "orig_nbformat": 4
 },
 "nbformat": 4,
 "nbformat_minor": 2
}
